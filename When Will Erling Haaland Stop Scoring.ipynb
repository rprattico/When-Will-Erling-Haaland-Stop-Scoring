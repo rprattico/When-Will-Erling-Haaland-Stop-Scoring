{
 "cells": [
  {
   "cell_type": "code",
   "execution_count": 1,
   "metadata": {},
   "outputs": [],
   "source": [
    "import pandas as pd\n",
    "import numpy as np\n",
    "import matplotlib.pyplot as plt\n",
    "import seaborn as sns\n",
    "from sklearn.model_selection import train_test_split, cross_val_score\n",
    "from sklearn.preprocessing import LabelEncoder, OneHotEncoder\n",
    "from sklearn.preprocessing import StandardScaler, MinMaxScaler\n",
    "from sklearn.linear_model import LogisticRegression\n",
    "from sklearn.metrics import accuracy_score\n",
    "import association_metrics as am"
   ]
  },
  {
   "cell_type": "code",
   "execution_count": 2,
   "metadata": {},
   "outputs": [],
   "source": [
    "df=pd.read_csv(\"C:/Users/rprat/OneDrive/Documents/Haaland Scoring Data.csv\")"
   ]
  },
  {
   "cell_type": "code",
   "execution_count": 3,
   "metadata": {
    "scrolled": false
   },
   "outputs": [
    {
     "data": {
      "text/html": [
       "<div>\n",
       "<style scoped>\n",
       "    .dataframe tbody tr th:only-of-type {\n",
       "        vertical-align: middle;\n",
       "    }\n",
       "\n",
       "    .dataframe tbody tr th {\n",
       "        vertical-align: top;\n",
       "    }\n",
       "\n",
       "    .dataframe thead th {\n",
       "        text-align: right;\n",
       "    }\n",
       "</style>\n",
       "<table border=\"1\" class=\"dataframe\">\n",
       "  <thead>\n",
       "    <tr style=\"text-align: right;\">\n",
       "      <th></th>\n",
       "      <th>Date</th>\n",
       "      <th>Day</th>\n",
       "      <th>Comp</th>\n",
       "      <th>Round</th>\n",
       "      <th>Venue</th>\n",
       "      <th>Result</th>\n",
       "      <th>Squad</th>\n",
       "      <th>Opponent</th>\n",
       "      <th>Start</th>\n",
       "      <th>Pos</th>\n",
       "      <th>Min</th>\n",
       "      <th>Gls</th>\n",
       "      <th>Ast</th>\n",
       "      <th>PK</th>\n",
       "      <th>Opp W</th>\n",
       "      <th>Opp D</th>\n",
       "      <th>Opp L</th>\n",
       "      <th>Match Report</th>\n",
       "    </tr>\n",
       "  </thead>\n",
       "  <tbody>\n",
       "    <tr>\n",
       "      <th>0</th>\n",
       "      <td>Mar-23</td>\n",
       "      <td>Sun</td>\n",
       "      <td>Eliteserien</td>\n",
       "      <td>Regular season</td>\n",
       "      <td>Home</td>\n",
       "      <td>W 5–0</td>\n",
       "      <td>Molde</td>\n",
       "      <td>Sandefjord</td>\n",
       "      <td>N</td>\n",
       "      <td>NaN</td>\n",
       "      <td>25</td>\n",
       "      <td>0</td>\n",
       "      <td>0</td>\n",
       "      <td>0</td>\n",
       "      <td>0</td>\n",
       "      <td>0</td>\n",
       "      <td>0</td>\n",
       "      <td>Match Report</td>\n",
       "    </tr>\n",
       "    <tr>\n",
       "      <th>1</th>\n",
       "      <td>Mar-23</td>\n",
       "      <td>Sun</td>\n",
       "      <td>Eliteserien</td>\n",
       "      <td>Regular season</td>\n",
       "      <td>Away</td>\n",
       "      <td>W 1–0</td>\n",
       "      <td>Molde</td>\n",
       "      <td>Haugesund</td>\n",
       "      <td>N</td>\n",
       "      <td>NaN</td>\n",
       "      <td>35</td>\n",
       "      <td>0</td>\n",
       "      <td>0</td>\n",
       "      <td>0</td>\n",
       "      <td>1</td>\n",
       "      <td>0</td>\n",
       "      <td>0</td>\n",
       "      <td>Match Report</td>\n",
       "    </tr>\n",
       "    <tr>\n",
       "      <th>2</th>\n",
       "      <td>Apr-23</td>\n",
       "      <td>Sun</td>\n",
       "      <td>Eliteserien</td>\n",
       "      <td>Regular season</td>\n",
       "      <td>Away</td>\n",
       "      <td>L 0–4</td>\n",
       "      <td>Molde</td>\n",
       "      <td>Rosenborg</td>\n",
       "      <td>N</td>\n",
       "      <td>NaN</td>\n",
       "      <td>36</td>\n",
       "      <td>0</td>\n",
       "      <td>0</td>\n",
       "      <td>0</td>\n",
       "      <td>0</td>\n",
       "      <td>2</td>\n",
       "      <td>1</td>\n",
       "      <td>Match Report</td>\n",
       "    </tr>\n",
       "    <tr>\n",
       "      <th>3</th>\n",
       "      <td>Apr-23</td>\n",
       "      <td>Sun</td>\n",
       "      <td>Eliteserien</td>\n",
       "      <td>Regular season</td>\n",
       "      <td>Home</td>\n",
       "      <td>W 2–1</td>\n",
       "      <td>Molde</td>\n",
       "      <td>Lillestrøm</td>\n",
       "      <td>Y</td>\n",
       "      <td>FW</td>\n",
       "      <td>90</td>\n",
       "      <td>1</td>\n",
       "      <td>0</td>\n",
       "      <td>1</td>\n",
       "      <td>1</td>\n",
       "      <td>1</td>\n",
       "      <td>2</td>\n",
       "      <td>Match Report</td>\n",
       "    </tr>\n",
       "    <tr>\n",
       "      <th>4</th>\n",
       "      <td>Apr-23</td>\n",
       "      <td>Sun</td>\n",
       "      <td>Eliteserien</td>\n",
       "      <td>Regular season</td>\n",
       "      <td>Away</td>\n",
       "      <td>D 0–0</td>\n",
       "      <td>Molde</td>\n",
       "      <td>Vålerenga</td>\n",
       "      <td>Y</td>\n",
       "      <td>FW</td>\n",
       "      <td>82</td>\n",
       "      <td>0</td>\n",
       "      <td>0</td>\n",
       "      <td>0</td>\n",
       "      <td>3</td>\n",
       "      <td>0</td>\n",
       "      <td>2</td>\n",
       "      <td>Match Report</td>\n",
       "    </tr>\n",
       "    <tr>\n",
       "      <th>...</th>\n",
       "      <td>...</td>\n",
       "      <td>...</td>\n",
       "      <td>...</td>\n",
       "      <td>...</td>\n",
       "      <td>...</td>\n",
       "      <td>...</td>\n",
       "      <td>...</td>\n",
       "      <td>...</td>\n",
       "      <td>...</td>\n",
       "      <td>...</td>\n",
       "      <td>...</td>\n",
       "      <td>...</td>\n",
       "      <td>...</td>\n",
       "      <td>...</td>\n",
       "      <td>...</td>\n",
       "      <td>...</td>\n",
       "      <td>...</td>\n",
       "      <td>...</td>\n",
       "    </tr>\n",
       "    <tr>\n",
       "      <th>227</th>\n",
       "      <td>Sep-23</td>\n",
       "      <td>Sat</td>\n",
       "      <td>Premier League</td>\n",
       "      <td>Regular season</td>\n",
       "      <td>Away</td>\n",
       "      <td>W 3–1</td>\n",
       "      <td>Manchester City</td>\n",
       "      <td>West Ham</td>\n",
       "      <td>Y</td>\n",
       "      <td>FW</td>\n",
       "      <td>89</td>\n",
       "      <td>1</td>\n",
       "      <td>0</td>\n",
       "      <td>0</td>\n",
       "      <td>3</td>\n",
       "      <td>1</td>\n",
       "      <td>0</td>\n",
       "      <td>Match Report</td>\n",
       "    </tr>\n",
       "    <tr>\n",
       "      <th>228</th>\n",
       "      <td>Sep-23</td>\n",
       "      <td>Tue</td>\n",
       "      <td>Champions League</td>\n",
       "      <td>Group stage</td>\n",
       "      <td>Home</td>\n",
       "      <td>W 3–1</td>\n",
       "      <td>eng Manchester City</td>\n",
       "      <td>rs Red Star</td>\n",
       "      <td>Y</td>\n",
       "      <td>FW</td>\n",
       "      <td>90</td>\n",
       "      <td>0</td>\n",
       "      <td>1</td>\n",
       "      <td>0</td>\n",
       "      <td>0</td>\n",
       "      <td>0</td>\n",
       "      <td>0</td>\n",
       "      <td>Match Report</td>\n",
       "    </tr>\n",
       "    <tr>\n",
       "      <th>229</th>\n",
       "      <td>Sep-23</td>\n",
       "      <td>Sat</td>\n",
       "      <td>Premier League</td>\n",
       "      <td>Regular season</td>\n",
       "      <td>Home</td>\n",
       "      <td>W 2–0</td>\n",
       "      <td>Manchester City</td>\n",
       "      <td>Nott'ham Forest</td>\n",
       "      <td>Y</td>\n",
       "      <td>FW</td>\n",
       "      <td>90</td>\n",
       "      <td>1</td>\n",
       "      <td>0</td>\n",
       "      <td>0</td>\n",
       "      <td>2</td>\n",
       "      <td>1</td>\n",
       "      <td>2</td>\n",
       "      <td>Match Report</td>\n",
       "    </tr>\n",
       "    <tr>\n",
       "      <th>230</th>\n",
       "      <td>Sep-23</td>\n",
       "      <td>Sat</td>\n",
       "      <td>Premier League</td>\n",
       "      <td>Regular season</td>\n",
       "      <td>Away</td>\n",
       "      <td>L 1–2</td>\n",
       "      <td>Manchester City</td>\n",
       "      <td>Wolves</td>\n",
       "      <td>Y</td>\n",
       "      <td>FW</td>\n",
       "      <td>90</td>\n",
       "      <td>0</td>\n",
       "      <td>0</td>\n",
       "      <td>0</td>\n",
       "      <td>2</td>\n",
       "      <td>1</td>\n",
       "      <td>3</td>\n",
       "      <td>Match Report</td>\n",
       "    </tr>\n",
       "    <tr>\n",
       "      <th>231</th>\n",
       "      <td>Oct-23</td>\n",
       "      <td>Wed</td>\n",
       "      <td>Champions League</td>\n",
       "      <td>Group stage</td>\n",
       "      <td>Away</td>\n",
       "      <td>W 3–1</td>\n",
       "      <td>eng Manchester City</td>\n",
       "      <td>de RB Leipzig</td>\n",
       "      <td>Y</td>\n",
       "      <td>FW</td>\n",
       "      <td>90</td>\n",
       "      <td>0</td>\n",
       "      <td>0</td>\n",
       "      <td>0</td>\n",
       "      <td>1</td>\n",
       "      <td>0</td>\n",
       "      <td>0</td>\n",
       "      <td>Match Report</td>\n",
       "    </tr>\n",
       "  </tbody>\n",
       "</table>\n",
       "<p>232 rows × 18 columns</p>\n",
       "</div>"
      ],
      "text/plain": [
       "       Date  Day              Comp           Round Venue Result  \\\n",
       "0    Mar-23  Sun       Eliteserien  Regular season  Home  W 5–0   \n",
       "1    Mar-23  Sun       Eliteserien  Regular season  Away  W 1–0   \n",
       "2    Apr-23  Sun       Eliteserien  Regular season  Away  L 0–4   \n",
       "3    Apr-23  Sun       Eliteserien  Regular season  Home  W 2–1   \n",
       "4    Apr-23  Sun       Eliteserien  Regular season  Away  D 0–0   \n",
       "..      ...  ...               ...             ...   ...    ...   \n",
       "227  Sep-23  Sat    Premier League  Regular season  Away  W 3–1   \n",
       "228  Sep-23  Tue  Champions League     Group stage  Home  W 3–1   \n",
       "229  Sep-23  Sat    Premier League  Regular season  Home  W 2–0   \n",
       "230  Sep-23  Sat    Premier League  Regular season  Away  L 1–2   \n",
       "231  Oct-23  Wed  Champions League     Group stage  Away  W 3–1   \n",
       "\n",
       "                   Squad         Opponent Start  Pos  Min  Gls  Ast  PK  \\\n",
       "0                  Molde       Sandefjord     N  NaN   25    0    0   0   \n",
       "1                  Molde        Haugesund     N  NaN   35    0    0   0   \n",
       "2                  Molde        Rosenborg     N  NaN   36    0    0   0   \n",
       "3                  Molde       Lillestrøm     Y   FW   90    1    0   1   \n",
       "4                  Molde        Vålerenga     Y   FW   82    0    0   0   \n",
       "..                   ...              ...   ...  ...  ...  ...  ...  ..   \n",
       "227      Manchester City         West Ham     Y   FW   89    1    0   0   \n",
       "228  eng Manchester City      rs Red Star     Y   FW   90    0    1   0   \n",
       "229      Manchester City  Nott'ham Forest     Y   FW   90    1    0   0   \n",
       "230      Manchester City           Wolves     Y   FW   90    0    0   0   \n",
       "231  eng Manchester City    de RB Leipzig     Y   FW   90    0    0   0   \n",
       "\n",
       "     Opp W  Opp D  Opp L  Match Report  \n",
       "0        0      0      0  Match Report  \n",
       "1        1      0      0  Match Report  \n",
       "2        0      2      1  Match Report  \n",
       "3        1      1      2  Match Report  \n",
       "4        3      0      2  Match Report  \n",
       "..     ...    ...    ...           ...  \n",
       "227      3      1      0  Match Report  \n",
       "228      0      0      0  Match Report  \n",
       "229      2      1      2  Match Report  \n",
       "230      2      1      3  Match Report  \n",
       "231      1      0      0  Match Report  \n",
       "\n",
       "[232 rows x 18 columns]"
      ]
     },
     "execution_count": 3,
     "metadata": {},
     "output_type": "execute_result"
    }
   ],
   "source": [
    "df"
   ]
  },
  {
   "cell_type": "markdown",
   "metadata": {},
   "source": [
    "## Part I: Data Cleaning"
   ]
  },
  {
   "cell_type": "markdown",
   "metadata": {},
   "source": [
    "### Step 1: Reformat data"
   ]
  },
  {
   "cell_type": "code",
   "execution_count": 4,
   "metadata": {},
   "outputs": [],
   "source": [
    "df[\"Date\"]=df[\"Date\"].str[:-3]"
   ]
  },
  {
   "cell_type": "code",
   "execution_count": 5,
   "metadata": {},
   "outputs": [],
   "source": [
    "for i in df[\"Comp\"]:\n",
    "    if i in [\"Eliteserien\", \"Premier League\", \"Austrian Bundesliga\", \"Bundesliga\"]:\n",
    "        df[\"Comp\"]=df[\"Comp\"].replace(i, \"Domestic League\")    \n",
    "    elif i in [\"Community Shield\", \"DFB-Pokal\",\"EFL Cup\", \"DFL-Supercup\", \"FA Cup\"]:\n",
    "        df[\"Comp\"]=df[\"Comp\"].replace(i, \"Domestic Cup\")    \n",
    "    elif i in [\"Champions League\", \"Europa League\", \"UEFA Super Cup\"]:\n",
    "        df[\"Comp\"]=df[\"Comp\"].replace(i, \"European Club Competition\")"
   ]
  },
  {
   "cell_type": "code",
   "execution_count": 6,
   "metadata": {},
   "outputs": [],
   "source": [
    "df[\"Competition\"]=df[\"Comp\"]+\" \"+df[\"Round\"]"
   ]
  },
  {
   "cell_type": "code",
   "execution_count": 7,
   "metadata": {},
   "outputs": [],
   "source": [
    "df[\"Opponent Form\"]=df[\"Opp W\"]-df[\"Opp L\"]+df[\"Opp D\"]*0.5\n",
    "df[\"Opponent Form\"]=df[\"Opponent Form\"].astype(float)"
   ]
  },
  {
   "cell_type": "code",
   "execution_count": 8,
   "metadata": {},
   "outputs": [],
   "source": [
    "df[\"Competition\"]=df[\"Competition\"].replace(\"International Friendly International Friendly\", \"International Friendly\")"
   ]
  },
  {
   "cell_type": "code",
   "execution_count": 9,
   "metadata": {},
   "outputs": [],
   "source": [
    "df[\"Score?\"]=np.where(df[\"Gls\"]>0, \"Scored\", \"Didn't Score\")"
   ]
  },
  {
   "cell_type": "code",
   "execution_count": 10,
   "metadata": {},
   "outputs": [],
   "source": [
    "df.drop(columns=[\"Comp\", \"Round\", \"Result\",\"Squad\",\"Opponent\",\"Pos\",\"Min\",\"Gls\",\"Ast\",\"PK\",\"Opp W\", \"Opp D\", \"Opp L\", \"Match Report\"], inplace=True)"
   ]
  },
  {
   "cell_type": "code",
   "execution_count": 11,
   "metadata": {},
   "outputs": [
    {
     "data": {
      "text/html": [
       "<div>\n",
       "<style scoped>\n",
       "    .dataframe tbody tr th:only-of-type {\n",
       "        vertical-align: middle;\n",
       "    }\n",
       "\n",
       "    .dataframe tbody tr th {\n",
       "        vertical-align: top;\n",
       "    }\n",
       "\n",
       "    .dataframe thead th {\n",
       "        text-align: right;\n",
       "    }\n",
       "</style>\n",
       "<table border=\"1\" class=\"dataframe\">\n",
       "  <thead>\n",
       "    <tr style=\"text-align: right;\">\n",
       "      <th></th>\n",
       "      <th>Date</th>\n",
       "      <th>Day</th>\n",
       "      <th>Venue</th>\n",
       "      <th>Start</th>\n",
       "      <th>Competition</th>\n",
       "      <th>Opponent Form</th>\n",
       "      <th>Score?</th>\n",
       "    </tr>\n",
       "  </thead>\n",
       "  <tbody>\n",
       "    <tr>\n",
       "      <th>0</th>\n",
       "      <td>Mar</td>\n",
       "      <td>Sun</td>\n",
       "      <td>Home</td>\n",
       "      <td>N</td>\n",
       "      <td>Domestic League Regular season</td>\n",
       "      <td>0.0</td>\n",
       "      <td>Didn't Score</td>\n",
       "    </tr>\n",
       "    <tr>\n",
       "      <th>1</th>\n",
       "      <td>Mar</td>\n",
       "      <td>Sun</td>\n",
       "      <td>Away</td>\n",
       "      <td>N</td>\n",
       "      <td>Domestic League Regular season</td>\n",
       "      <td>1.0</td>\n",
       "      <td>Didn't Score</td>\n",
       "    </tr>\n",
       "    <tr>\n",
       "      <th>2</th>\n",
       "      <td>Apr</td>\n",
       "      <td>Sun</td>\n",
       "      <td>Away</td>\n",
       "      <td>N</td>\n",
       "      <td>Domestic League Regular season</td>\n",
       "      <td>0.0</td>\n",
       "      <td>Didn't Score</td>\n",
       "    </tr>\n",
       "    <tr>\n",
       "      <th>3</th>\n",
       "      <td>Apr</td>\n",
       "      <td>Sun</td>\n",
       "      <td>Home</td>\n",
       "      <td>Y</td>\n",
       "      <td>Domestic League Regular season</td>\n",
       "      <td>-0.5</td>\n",
       "      <td>Scored</td>\n",
       "    </tr>\n",
       "    <tr>\n",
       "      <th>4</th>\n",
       "      <td>Apr</td>\n",
       "      <td>Sun</td>\n",
       "      <td>Away</td>\n",
       "      <td>Y</td>\n",
       "      <td>Domestic League Regular season</td>\n",
       "      <td>1.0</td>\n",
       "      <td>Didn't Score</td>\n",
       "    </tr>\n",
       "    <tr>\n",
       "      <th>...</th>\n",
       "      <td>...</td>\n",
       "      <td>...</td>\n",
       "      <td>...</td>\n",
       "      <td>...</td>\n",
       "      <td>...</td>\n",
       "      <td>...</td>\n",
       "      <td>...</td>\n",
       "    </tr>\n",
       "    <tr>\n",
       "      <th>227</th>\n",
       "      <td>Sep</td>\n",
       "      <td>Sat</td>\n",
       "      <td>Away</td>\n",
       "      <td>Y</td>\n",
       "      <td>Domestic League Regular season</td>\n",
       "      <td>3.5</td>\n",
       "      <td>Scored</td>\n",
       "    </tr>\n",
       "    <tr>\n",
       "      <th>228</th>\n",
       "      <td>Sep</td>\n",
       "      <td>Tue</td>\n",
       "      <td>Home</td>\n",
       "      <td>Y</td>\n",
       "      <td>European Club Competition Group stage</td>\n",
       "      <td>0.0</td>\n",
       "      <td>Didn't Score</td>\n",
       "    </tr>\n",
       "    <tr>\n",
       "      <th>229</th>\n",
       "      <td>Sep</td>\n",
       "      <td>Sat</td>\n",
       "      <td>Home</td>\n",
       "      <td>Y</td>\n",
       "      <td>Domestic League Regular season</td>\n",
       "      <td>0.5</td>\n",
       "      <td>Scored</td>\n",
       "    </tr>\n",
       "    <tr>\n",
       "      <th>230</th>\n",
       "      <td>Sep</td>\n",
       "      <td>Sat</td>\n",
       "      <td>Away</td>\n",
       "      <td>Y</td>\n",
       "      <td>Domestic League Regular season</td>\n",
       "      <td>-0.5</td>\n",
       "      <td>Didn't Score</td>\n",
       "    </tr>\n",
       "    <tr>\n",
       "      <th>231</th>\n",
       "      <td>Oct</td>\n",
       "      <td>Wed</td>\n",
       "      <td>Away</td>\n",
       "      <td>Y</td>\n",
       "      <td>European Club Competition Group stage</td>\n",
       "      <td>1.0</td>\n",
       "      <td>Didn't Score</td>\n",
       "    </tr>\n",
       "  </tbody>\n",
       "</table>\n",
       "<p>232 rows × 7 columns</p>\n",
       "</div>"
      ],
      "text/plain": [
       "    Date  Day Venue Start                            Competition  \\\n",
       "0    Mar  Sun  Home     N         Domestic League Regular season   \n",
       "1    Mar  Sun  Away     N         Domestic League Regular season   \n",
       "2    Apr  Sun  Away     N         Domestic League Regular season   \n",
       "3    Apr  Sun  Home     Y         Domestic League Regular season   \n",
       "4    Apr  Sun  Away     Y         Domestic League Regular season   \n",
       "..   ...  ...   ...   ...                                    ...   \n",
       "227  Sep  Sat  Away     Y         Domestic League Regular season   \n",
       "228  Sep  Tue  Home     Y  European Club Competition Group stage   \n",
       "229  Sep  Sat  Home     Y         Domestic League Regular season   \n",
       "230  Sep  Sat  Away     Y         Domestic League Regular season   \n",
       "231  Oct  Wed  Away     Y  European Club Competition Group stage   \n",
       "\n",
       "     Opponent Form        Score?  \n",
       "0              0.0  Didn't Score  \n",
       "1              1.0  Didn't Score  \n",
       "2              0.0  Didn't Score  \n",
       "3             -0.5        Scored  \n",
       "4              1.0  Didn't Score  \n",
       "..             ...           ...  \n",
       "227            3.5        Scored  \n",
       "228            0.0  Didn't Score  \n",
       "229            0.5        Scored  \n",
       "230           -0.5  Didn't Score  \n",
       "231            1.0  Didn't Score  \n",
       "\n",
       "[232 rows x 7 columns]"
      ]
     },
     "execution_count": 11,
     "metadata": {},
     "output_type": "execute_result"
    }
   ],
   "source": [
    "df"
   ]
  },
  {
   "cell_type": "markdown",
   "metadata": {},
   "source": [
    "## Part II: Data Exploration"
   ]
  },
  {
   "cell_type": "code",
   "execution_count": 12,
   "metadata": {},
   "outputs": [
    {
     "name": "stdout",
     "output_type": "stream",
     "text": [
      "Haaland has scored in 55% of the games he has played in the last 5 years.\n"
     ]
    }
   ],
   "source": [
    "games_goal=len(df[(df[\"Score?\"]==\"Scored\")])\n",
    "games_nogoal=len(df[(df[\"Score?\"]==\"Didn't Score\")])\n",
    "\n",
    "print(f\"Haaland has scored in {round((games_goal/(games_nogoal+games_goal))*100)}% of the games he has played in the last 5 years.\")"
   ]
  },
  {
   "cell_type": "markdown",
   "metadata": {},
   "source": [
    "### Goals by Competition Type"
   ]
  },
  {
   "cell_type": "code",
   "execution_count": 13,
   "metadata": {},
   "outputs": [],
   "source": [
    "competitions=list(df[\"Competition\"].unique())\n",
    "gamescount=[len(df[(df[\"Competition\"]==i)]) for i in competitions]\n",
    "comp_goal=[len(df[(df[\"Score?\"]==\"Scored\")&(df[\"Competition\"]==i)]) for i in competitions]\n",
    "comp_nogoal=[len(df[(df[\"Score?\"]==\"Didn't Score\")&(df[\"Competition\"]==i)]) for i in competitions]\n",
    "comp_goalrate=[str(round((comp_goal[i]/(comp_goal[i]+comp_nogoal[i]))*100)) +\"% scored\" for i in range(len(competitions))]\n",
    "\n",
    "data={\"Competition\":competitions,\"Games Played\": gamescount, \"Games Scored\":comp_goal,\"Game Didn't Score\":comp_nogoal,\"Scoring Rate\":comp_goalrate}\n",
    "\n",
    "df2=pd.DataFrame(data)\n",
    "df2=df2.sort_values(by=\"Games Played\", ascending=True)\n",
    "\n",
    "gamescount=df2[\"Games Played\"].tolist()\n",
    "competitions=df2[\"Competition\"].tolist()\n",
    "comp_goal=df2[\"Games Scored\"].tolist()\n",
    "comp_nogoal=df2[\"Game Didn't Score\"].tolist()\n",
    "comp_goalrate=df2[\"Scoring Rate\"].tolist()"
   ]
  },
  {
   "cell_type": "code",
   "execution_count": 14,
   "metadata": {},
   "outputs": [
    {
     "data": {
      "image/png": "[encoded data removed]",
      "text/plain": [
       "<Figure size 2160x2160 with 1 Axes>"
      ]
     },
     "metadata": {
      "needs_background": "light"
     },
     "output_type": "display_data"
    }
   ],
   "source": [
    "#plt.rcParams['figure.figsize']=[30,25]\n",
    "fig, ax=plt.subplots(figsize=(30,30))\n",
    "ax.barh(competitions, comp_goal, color='#00285e')\n",
    "ax.barh(competitions, comp_nogoal, left=comp_goal, color='#6caddf')\n",
    "plt.xticks(fontsize=25)\n",
    "plt.yticks(fontsize=25)\n",
    "ax.legend([\"Scored\",\"Didn't Score\"], fontsize=30, loc= 'lower right')\n",
    "plt.title(\"Erling Haaland Goal Rate by Competition\", fontsize=40)\n",
    "plt.xlabel(\"Total Games Played\",fontsize=30)\n",
    "\n",
    "for i in range(len(comp_goalrate)):\n",
    "    ax.text(comp_goal[i] + comp_nogoal[i]+8, competitions[i], str(gamescount[i])+ \" games \\n \" +comp_goalrate[i], ha='center', va=\"center\", fontsize=25)\n",
    "\n",
    "plt.show()"
   ]
  },
  {
   "cell_type": "markdown",
   "metadata": {},
   "source": [
    "## Part III: Model Development"
   ]
  },
  {
   "cell_type": "markdown",
   "metadata": {},
   "source": [
    "### Step 1: Prepare Data for Computation"
   ]
  },
  {
   "cell_type": "code",
   "execution_count": 15,
   "metadata": {},
   "outputs": [
    {
     "data": {
      "text/plain": [
       "Scored          128\n",
       "Didn't Score    104\n",
       "Name: Score?, dtype: int64"
      ]
     },
     "execution_count": 15,
     "metadata": {},
     "output_type": "execute_result"
    }
   ],
   "source": [
    "df[\"Score?\"].value_counts()"
   ]
  },
  {
   "cell_type": "code",
   "execution_count": 16,
   "metadata": {},
   "outputs": [],
   "source": [
    "df['Score?'] = df['Score?'].map({'Scored': 1, \"Didn't Score\": 0})"
   ]
  },
  {
   "cell_type": "code",
   "execution_count": 17,
   "metadata": {},
   "outputs": [],
   "source": [
    "x=df.drop(\"Score?\",axis=1)\n",
    "predictors=x\n",
    "y=df[\"Score?\"]"
   ]
  },
  {
   "cell_type": "code",
   "execution_count": 18,
   "metadata": {},
   "outputs": [
    {
     "data": {
      "text/html": [
       "<div>\n",
       "<style scoped>\n",
       "    .dataframe tbody tr th:only-of-type {\n",
       "        vertical-align: middle;\n",
       "    }\n",
       "\n",
       "    .dataframe tbody tr th {\n",
       "        vertical-align: top;\n",
       "    }\n",
       "\n",
       "    .dataframe thead th {\n",
       "        text-align: right;\n",
       "    }\n",
       "</style>\n",
       "<table border=\"1\" class=\"dataframe\">\n",
       "  <thead>\n",
       "    <tr style=\"text-align: right;\">\n",
       "      <th></th>\n",
       "      <th>Date</th>\n",
       "      <th>Venue</th>\n",
       "      <th>Start</th>\n",
       "      <th>Competition</th>\n",
       "    </tr>\n",
       "  </thead>\n",
       "  <tbody>\n",
       "    <tr>\n",
       "      <th>0</th>\n",
       "      <td>Mar</td>\n",
       "      <td>Home</td>\n",
       "      <td>N</td>\n",
       "      <td>Domestic League Regular season</td>\n",
       "    </tr>\n",
       "    <tr>\n",
       "      <th>1</th>\n",
       "      <td>Mar</td>\n",
       "      <td>Away</td>\n",
       "      <td>N</td>\n",
       "      <td>Domestic League Regular season</td>\n",
       "    </tr>\n",
       "    <tr>\n",
       "      <th>2</th>\n",
       "      <td>Apr</td>\n",
       "      <td>Away</td>\n",
       "      <td>N</td>\n",
       "      <td>Domestic League Regular season</td>\n",
       "    </tr>\n",
       "    <tr>\n",
       "      <th>3</th>\n",
       "      <td>Apr</td>\n",
       "      <td>Home</td>\n",
       "      <td>Y</td>\n",
       "      <td>Domestic League Regular season</td>\n",
       "    </tr>\n",
       "    <tr>\n",
       "      <th>4</th>\n",
       "      <td>Apr</td>\n",
       "      <td>Away</td>\n",
       "      <td>Y</td>\n",
       "      <td>Domestic League Regular season</td>\n",
       "    </tr>\n",
       "    <tr>\n",
       "      <th>...</th>\n",
       "      <td>...</td>\n",
       "      <td>...</td>\n",
       "      <td>...</td>\n",
       "      <td>...</td>\n",
       "    </tr>\n",
       "    <tr>\n",
       "      <th>227</th>\n",
       "      <td>Sep</td>\n",
       "      <td>Away</td>\n",
       "      <td>Y</td>\n",
       "      <td>Domestic League Regular season</td>\n",
       "    </tr>\n",
       "    <tr>\n",
       "      <th>228</th>\n",
       "      <td>Sep</td>\n",
       "      <td>Home</td>\n",
       "      <td>Y</td>\n",
       "      <td>European Club Competition Group stage</td>\n",
       "    </tr>\n",
       "    <tr>\n",
       "      <th>229</th>\n",
       "      <td>Sep</td>\n",
       "      <td>Home</td>\n",
       "      <td>Y</td>\n",
       "      <td>Domestic League Regular season</td>\n",
       "    </tr>\n",
       "    <tr>\n",
       "      <th>230</th>\n",
       "      <td>Sep</td>\n",
       "      <td>Away</td>\n",
       "      <td>Y</td>\n",
       "      <td>Domestic League Regular season</td>\n",
       "    </tr>\n",
       "    <tr>\n",
       "      <th>231</th>\n",
       "      <td>Oct</td>\n",
       "      <td>Away</td>\n",
       "      <td>Y</td>\n",
       "      <td>European Club Competition Group stage</td>\n",
       "    </tr>\n",
       "  </tbody>\n",
       "</table>\n",
       "<p>232 rows × 4 columns</p>\n",
       "</div>"
      ],
      "text/plain": [
       "    Date Venue Start                            Competition\n",
       "0    Mar  Home     N         Domestic League Regular season\n",
       "1    Mar  Away     N         Domestic League Regular season\n",
       "2    Apr  Away     N         Domestic League Regular season\n",
       "3    Apr  Home     Y         Domestic League Regular season\n",
       "4    Apr  Away     Y         Domestic League Regular season\n",
       "..   ...   ...   ...                                    ...\n",
       "227  Sep  Away     Y         Domestic League Regular season\n",
       "228  Sep  Home     Y  European Club Competition Group stage\n",
       "229  Sep  Home     Y         Domestic League Regular season\n",
       "230  Sep  Away     Y         Domestic League Regular season\n",
       "231  Oct  Away     Y  European Club Competition Group stage\n",
       "\n",
       "[232 rows x 4 columns]"
      ]
     },
     "execution_count": 18,
     "metadata": {},
     "output_type": "execute_result"
    }
   ],
   "source": [
    "categorical_features=x[[\"Date\", \"Venue\", \"Start\", \"Competition\"]]\n",
    "categorical_features"
   ]
  },
  {
   "cell_type": "code",
   "execution_count": 19,
   "metadata": {},
   "outputs": [],
   "source": [
    "encoder=OneHotEncoder(handle_unknown=\"ignore\")"
   ]
  },
  {
   "cell_type": "code",
   "execution_count": 20,
   "metadata": {},
   "outputs": [],
   "source": [
    "#Encode dates\n",
    "encoded_df=pd.DataFrame(encoder.fit_transform(x[[\"Date\"]]).toarray())\n",
    "x=x.join(encoded_df)\n",
    "x.columns=[\"Date\",\"Day\",\"Venue\", \"Start\", \"Competition\",\"Opponent Form\",'Apr','Aug','Dec','Feb','Jan','Jul','Jun','Mar','May','Nov','Oct','Sep']"
   ]
  },
  {
   "cell_type": "code",
   "execution_count": 21,
   "metadata": {},
   "outputs": [],
   "source": [
    "#Encode days\n",
    "encoded_df=pd.DataFrame(encoder.fit_transform(x[[\"Day\"]]).toarray())\n",
    "x=x.join(encoded_df)\n",
    "x.columns=[\"Date\",\"Day\", \"Venue\", \"Start\", \"Competition\",\"Opponent Form\",'Apr','Aug','Dec','Feb','Jan','Jul','Jun','Mar','May','Nov','Oct','Sep',\n",
    "          'Fri', 'Mon', 'Sat', 'Sun', 'Thu', 'Tue', 'Wed']"
   ]
  },
  {
   "cell_type": "code",
   "execution_count": 22,
   "metadata": {},
   "outputs": [],
   "source": [
    "#Encode venues\n",
    "encoded_df=pd.DataFrame(encoder.fit_transform(x[[\"Venue\"]]).toarray())\n",
    "x=x.join(encoded_df)\n",
    "x.columns=[\"Date\",\"Day\",\"Venue\", \"Start\", \"Competition\",\"Opponent Form\",'Apr','Aug','Dec','Feb','Jan','Jul','Jun','Mar','May','Nov','Oct','Sep',\n",
    "          'Fri', 'Mon', 'Sat', 'Sun', 'Thu', 'Tue', 'Wed',\"Away\",\"Home\",\"Neutral\"]"
   ]
  },
  {
   "cell_type": "code",
   "execution_count": 23,
   "metadata": {},
   "outputs": [],
   "source": [
    "#Encode start\n",
    "encoded_df=pd.DataFrame(encoder.fit_transform(x[[\"Start\"]]).toarray())\n",
    "x=x.join(encoded_df)\n",
    "x.columns=[\"Date\",\"Day\",\"Venue\", \"Start\", \"Competition\",\"Opponent Form\",'Apr','Aug','Dec','Feb','Jan','Jul','Jun','Mar','May','Nov','Oct','Sep',\n",
    "          'Fri', 'Mon', 'Sat', 'Sun', 'Thu', 'Tue', 'Wed',\"Away\",\"Home\",\"Neutral\",\"N\",\"Y\"]"
   ]
  },
  {
   "cell_type": "code",
   "execution_count": 24,
   "metadata": {},
   "outputs": [],
   "source": [
    "#Encode competitions\n",
    "encoded_df=pd.DataFrame(encoder.fit_transform(x[[\"Competition\"]]).toarray())\n",
    "x=x.join(encoded_df)\n",
    "x.columns=[\"Date\",\"Day\", \"Venue\", \"Start\", \"Competition\",\"Opponent Form\",'Apr','Aug','Dec','Feb','Jan','Jul','Jun','Mar','May','Nov','Oct','Sep',\n",
    "          'Fri', 'Mon', 'Sat', 'Sun', 'Thu', 'Tue', 'Wed',\"Away\",\"Home\",\"Neutral\",\"N\",\"Y\",'Domestic Cup Final', 'Domestic Cup First round',\n",
    "          'Domestic Cup Fourth round','Domestic Cup Quarter-finals','Domestic Cup Round of 16','Domestic Cup Round of 64','Domestic Cup Semi-finals',\n",
    "          'Domestic League Regular season','European Club Competition Final','European Club Competition Group stage','European Club Competition Qualifying',\n",
    "          'European Club Competition Quarter-finals','European Club Competition Round of 16','European Club Competition Semi-finals',\n",
    "          'International Friendly', 'UEFA Euros Qualifying','UEFA Nations League Group stage','World Cup Qualifying']"
   ]
  },
  {
   "cell_type": "code",
   "execution_count": 25,
   "metadata": {},
   "outputs": [],
   "source": [
    "x=x.drop(columns=[\"Date\",\"Day\",\"Venue\", \"Start\", \"Competition\"])\n",
    "feature_names=x"
   ]
  },
  {
   "cell_type": "code",
   "execution_count": 26,
   "metadata": {},
   "outputs": [],
   "source": [
    "scaler=MinMaxScaler()\n",
    "x=scaler.fit_transform(x)"
   ]
  },
  {
   "cell_type": "code",
   "execution_count": 27,
   "metadata": {},
   "outputs": [],
   "source": [
    "finaltest=x[[-1]]\n",
    "x=x[:-1]\n",
    "y=y[:-1]"
   ]
  },
  {
   "cell_type": "code",
   "execution_count": 28,
   "metadata": {},
   "outputs": [],
   "source": [
    "x_train, x_test, y_train, y_test = train_test_split(x, y, test_size=0.2, random_state=42)"
   ]
  },
  {
   "cell_type": "markdown",
   "metadata": {},
   "source": [
    "### Trial 1: Logistic Regression"
   ]
  },
  {
   "cell_type": "code",
   "execution_count": 29,
   "metadata": {},
   "outputs": [
    {
     "data": {
      "text/html": [
       "<style>#sk-container-id-1 {color: black;}#sk-container-id-1 pre{padding: 0;}#sk-container-id-1 div.sk-toggleable {background-color: white;}#sk-container-id-1 label.sk-toggleable__label {cursor: pointer;display: block;width: 100%;margin-bottom: 0;padding: 0.3em;box-sizing: border-box;text-align: center;}#sk-container-id-1 label.sk-toggleable__label-arrow:before {content: \"▸\";float: left;margin-right: 0.25em;color: #696969;}#sk-container-id-1 label.sk-toggleable__label-arrow:hover:before {color: black;}#sk-container-id-1 div.sk-estimator:hover label.sk-toggleable__label-arrow:before {color: black;}#sk-container-id-1 div.sk-toggleable__content {max-height: 0;max-width: 0;overflow: hidden;text-align: left;background-color: #f0f8ff;}#sk-container-id-1 div.sk-toggleable__content pre {margin: 0.2em;color: black;border-radius: 0.25em;background-color: #f0f8ff;}#sk-container-id-1 input.sk-toggleable__control:checked~div.sk-toggleable__content {max-height: 200px;max-width: 100%;overflow: auto;}#sk-container-id-1 input.sk-toggleable__control:checked~label.sk-toggleable__label-arrow:before {content: \"▾\";}#sk-container-id-1 div.sk-estimator input.sk-toggleable__control:checked~label.sk-toggleable__label {background-color: #d4ebff;}#sk-container-id-1 div.sk-label input.sk-toggleable__control:checked~label.sk-toggleable__label {background-color: #d4ebff;}#sk-container-id-1 input.sk-hidden--visually {border: 0;clip: rect(1px 1px 1px 1px);clip: rect(1px, 1px, 1px, 1px);height: 1px;margin: -1px;overflow: hidden;padding: 0;position: absolute;width: 1px;}#sk-container-id-1 div.sk-estimator {font-family: monospace;background-color: #f0f8ff;border: 1px dotted black;border-radius: 0.25em;box-sizing: border-box;margin-bottom: 0.5em;}#sk-container-id-1 div.sk-estimator:hover {background-color: #d4ebff;}#sk-container-id-1 div.sk-parallel-item::after {content: \"\";width: 100%;border-bottom: 1px solid gray;flex-grow: 1;}#sk-container-id-1 div.sk-label:hover label.sk-toggleable__label {background-color: #d4ebff;}#sk-container-id-1 div.sk-serial::before {content: \"\";position: absolute;border-left: 1px solid gray;box-sizing: border-box;top: 0;bottom: 0;left: 50%;z-index: 0;}#sk-container-id-1 div.sk-serial {display: flex;flex-direction: column;align-items: center;background-color: white;padding-right: 0.2em;padding-left: 0.2em;position: relative;}#sk-container-id-1 div.sk-item {position: relative;z-index: 1;}#sk-container-id-1 div.sk-parallel {display: flex;align-items: stretch;justify-content: center;background-color: white;position: relative;}#sk-container-id-1 div.sk-item::before, #sk-container-id-1 div.sk-parallel-item::before {content: \"\";position: absolute;border-left: 1px solid gray;box-sizing: border-box;top: 0;bottom: 0;left: 50%;z-index: -1;}#sk-container-id-1 div.sk-parallel-item {display: flex;flex-direction: column;z-index: 1;position: relative;background-color: white;}#sk-container-id-1 div.sk-parallel-item:first-child::after {align-self: flex-end;width: 50%;}#sk-container-id-1 div.sk-parallel-item:last-child::after {align-self: flex-start;width: 50%;}#sk-container-id-1 div.sk-parallel-item:only-child::after {width: 0;}#sk-container-id-1 div.sk-dashed-wrapped {border: 1px dashed gray;margin: 0 0.4em 0.5em 0.4em;box-sizing: border-box;padding-bottom: 0.4em;background-color: white;}#sk-container-id-1 div.sk-label label {font-family: monospace;font-weight: bold;display: inline-block;line-height: 1.2em;}#sk-container-id-1 div.sk-label-container {text-align: center;}#sk-container-id-1 div.sk-container {/* jupyter's `normalize.less` sets `[hidden] { display: none; }` but bootstrap.min.css set `[hidden] { display: none !important; }` so we also need the `!important` here to be able to override the default hidden behavior on the sphinx rendered scikit-learn.org. See: https://github.com/scikit-learn/scikit-learn/issues/21755 */display: inline-block !important;position: relative;}#sk-container-id-1 div.sk-text-repr-fallback {display: none;}</style><div id=\"sk-container-id-1\" class=\"sk-top-container\"><div class=\"sk-text-repr-fallback\"><pre>LogisticRegression()</pre><b>In a Jupyter environment, please rerun this cell to show the HTML representation or trust the notebook. <br />On GitHub, the HTML representation is unable to render, please try loading this page with nbviewer.org.</b></div><div class=\"sk-container\" hidden><div class=\"sk-item\"><div class=\"sk-estimator sk-toggleable\"><input class=\"sk-toggleable__control sk-hidden--visually\" id=\"sk-estimator-id-1\" type=\"checkbox\" checked><label for=\"sk-estimator-id-1\" class=\"sk-toggleable__label sk-toggleable__label-arrow\">LogisticRegression</label><div class=\"sk-toggleable__content\"><pre>LogisticRegression()</pre></div></div></div></div></div>"
      ],
      "text/plain": [
       "LogisticRegression()"
      ]
     },
     "execution_count": 29,
     "metadata": {},
     "output_type": "execute_result"
    }
   ],
   "source": [
    "model=LogisticRegression()\n",
    "model.fit(x_train, y_train)"
   ]
  },
  {
   "cell_type": "code",
   "execution_count": 30,
   "metadata": {},
   "outputs": [
    {
     "name": "stdout",
     "output_type": "stream",
     "text": [
      "Best: 0.581774 using {'C': 0.1, 'penalty': 'l2', 'solver': 'liblinear'}\n",
      "0.552242 (0.099202) with: {'C': 100, 'penalty': 'l2', 'solver': 'newton-cg'}\n",
      "0.552242 (0.099202) with: {'C': 100, 'penalty': 'l2', 'solver': 'lbfgs'}\n",
      "0.552242 (0.099202) with: {'C': 100, 'penalty': 'l2', 'solver': 'liblinear'}\n",
      "0.543470 (0.111571) with: {'C': 10, 'penalty': 'l2', 'solver': 'newton-cg'}\n",
      "0.543470 (0.111571) with: {'C': 10, 'penalty': 'l2', 'solver': 'lbfgs'}\n",
      "0.539864 (0.107977) with: {'C': 10, 'penalty': 'l2', 'solver': 'liblinear'}\n",
      "0.541813 (0.097198) with: {'C': 1.0, 'penalty': 'l2', 'solver': 'newton-cg'}\n",
      "0.541813 (0.097198) with: {'C': 1.0, 'penalty': 'l2', 'solver': 'lbfgs'}\n",
      "0.545419 (0.094162) with: {'C': 1.0, 'penalty': 'l2', 'solver': 'liblinear'}\n",
      "0.576511 (0.092692) with: {'C': 0.1, 'penalty': 'l2', 'solver': 'newton-cg'}\n",
      "0.576511 (0.092692) with: {'C': 0.1, 'penalty': 'l2', 'solver': 'lbfgs'}\n",
      "0.581774 (0.090827) with: {'C': 0.1, 'penalty': 'l2', 'solver': 'liblinear'}\n",
      "0.542008 (0.040995) with: {'C': 0.01, 'penalty': 'l2', 'solver': 'newton-cg'}\n",
      "0.542008 (0.040995) with: {'C': 0.01, 'penalty': 'l2', 'solver': 'lbfgs'}\n",
      "0.560429 (0.055526) with: {'C': 0.01, 'penalty': 'l2', 'solver': 'liblinear'}\n"
     ]
    }
   ],
   "source": [
    "#Logistic Rgeression hyperparameter tuning\n",
    "from sklearn.datasets import make_blobs\n",
    "from sklearn.model_selection import RepeatedStratifiedKFold\n",
    "from sklearn.model_selection import GridSearchCV\n",
    "from sklearn.linear_model import LogisticRegression\n",
    "\n",
    "model = LogisticRegression()\n",
    "solvers = ['newton-cg', 'lbfgs', 'liblinear']\n",
    "penalty = ['l2']\n",
    "c_values = [100, 10, 1.0, 0.1, 0.01]\n",
    "\n",
    "# define grid search\n",
    "grid = dict(solver=solvers,penalty=penalty,C=c_values)\n",
    "cv = RepeatedStratifiedKFold(n_splits=10, n_repeats=3, random_state=1)\n",
    "grid_search = GridSearchCV(estimator=model, param_grid=grid, n_jobs=-1, cv=cv, scoring='accuracy',error_score=0)\n",
    "grid_result = grid_search.fit(x_train, y_train)\n",
    "\n",
    "# summarize results\n",
    "print(\"Best: %f using %s\" % (grid_result.best_score_, grid_result.best_params_))\n",
    "means = grid_result.cv_results_['mean_test_score']\n",
    "stds = grid_result.cv_results_['std_test_score']\n",
    "params = grid_result.cv_results_['params']\n",
    "for mean, stdev, param in zip(means, stds, params):\n",
    "    print(\"%f (%f) with: %r\" % (mean, stdev, param))"
   ]
  },
  {
   "cell_type": "code",
   "execution_count": 31,
   "metadata": {},
   "outputs": [
    {
     "data": {
      "text/html": [
       "<style>#sk-container-id-2 {color: black;}#sk-container-id-2 pre{padding: 0;}#sk-container-id-2 div.sk-toggleable {background-color: white;}#sk-container-id-2 label.sk-toggleable__label {cursor: pointer;display: block;width: 100%;margin-bottom: 0;padding: 0.3em;box-sizing: border-box;text-align: center;}#sk-container-id-2 label.sk-toggleable__label-arrow:before {content: \"▸\";float: left;margin-right: 0.25em;color: #696969;}#sk-container-id-2 label.sk-toggleable__label-arrow:hover:before {color: black;}#sk-container-id-2 div.sk-estimator:hover label.sk-toggleable__label-arrow:before {color: black;}#sk-container-id-2 div.sk-toggleable__content {max-height: 0;max-width: 0;overflow: hidden;text-align: left;background-color: #f0f8ff;}#sk-container-id-2 div.sk-toggleable__content pre {margin: 0.2em;color: black;border-radius: 0.25em;background-color: #f0f8ff;}#sk-container-id-2 input.sk-toggleable__control:checked~div.sk-toggleable__content {max-height: 200px;max-width: 100%;overflow: auto;}#sk-container-id-2 input.sk-toggleable__control:checked~label.sk-toggleable__label-arrow:before {content: \"▾\";}#sk-container-id-2 div.sk-estimator input.sk-toggleable__control:checked~label.sk-toggleable__label {background-color: #d4ebff;}#sk-container-id-2 div.sk-label input.sk-toggleable__control:checked~label.sk-toggleable__label {background-color: #d4ebff;}#sk-container-id-2 input.sk-hidden--visually {border: 0;clip: rect(1px 1px 1px 1px);clip: rect(1px, 1px, 1px, 1px);height: 1px;margin: -1px;overflow: hidden;padding: 0;position: absolute;width: 1px;}#sk-container-id-2 div.sk-estimator {font-family: monospace;background-color: #f0f8ff;border: 1px dotted black;border-radius: 0.25em;box-sizing: border-box;margin-bottom: 0.5em;}#sk-container-id-2 div.sk-estimator:hover {background-color: #d4ebff;}#sk-container-id-2 div.sk-parallel-item::after {content: \"\";width: 100%;border-bottom: 1px solid gray;flex-grow: 1;}#sk-container-id-2 div.sk-label:hover label.sk-toggleable__label {background-color: #d4ebff;}#sk-container-id-2 div.sk-serial::before {content: \"\";position: absolute;border-left: 1px solid gray;box-sizing: border-box;top: 0;bottom: 0;left: 50%;z-index: 0;}#sk-container-id-2 div.sk-serial {display: flex;flex-direction: column;align-items: center;background-color: white;padding-right: 0.2em;padding-left: 0.2em;position: relative;}#sk-container-id-2 div.sk-item {position: relative;z-index: 1;}#sk-container-id-2 div.sk-parallel {display: flex;align-items: stretch;justify-content: center;background-color: white;position: relative;}#sk-container-id-2 div.sk-item::before, #sk-container-id-2 div.sk-parallel-item::before {content: \"\";position: absolute;border-left: 1px solid gray;box-sizing: border-box;top: 0;bottom: 0;left: 50%;z-index: -1;}#sk-container-id-2 div.sk-parallel-item {display: flex;flex-direction: column;z-index: 1;position: relative;background-color: white;}#sk-container-id-2 div.sk-parallel-item:first-child::after {align-self: flex-end;width: 50%;}#sk-container-id-2 div.sk-parallel-item:last-child::after {align-self: flex-start;width: 50%;}#sk-container-id-2 div.sk-parallel-item:only-child::after {width: 0;}#sk-container-id-2 div.sk-dashed-wrapped {border: 1px dashed gray;margin: 0 0.4em 0.5em 0.4em;box-sizing: border-box;padding-bottom: 0.4em;background-color: white;}#sk-container-id-2 div.sk-label label {font-family: monospace;font-weight: bold;display: inline-block;line-height: 1.2em;}#sk-container-id-2 div.sk-label-container {text-align: center;}#sk-container-id-2 div.sk-container {/* jupyter's `normalize.less` sets `[hidden] { display: none; }` but bootstrap.min.css set `[hidden] { display: none !important; }` so we also need the `!important` here to be able to override the default hidden behavior on the sphinx rendered scikit-learn.org. See: https://github.com/scikit-learn/scikit-learn/issues/21755 */display: inline-block !important;position: relative;}#sk-container-id-2 div.sk-text-repr-fallback {display: none;}</style><div id=\"sk-container-id-2\" class=\"sk-top-container\"><div class=\"sk-text-repr-fallback\"><pre>LogisticRegression(C=0.01, solver=&#x27;newton-cg&#x27;)</pre><b>In a Jupyter environment, please rerun this cell to show the HTML representation or trust the notebook. <br />On GitHub, the HTML representation is unable to render, please try loading this page with nbviewer.org.</b></div><div class=\"sk-container\" hidden><div class=\"sk-item\"><div class=\"sk-estimator sk-toggleable\"><input class=\"sk-toggleable__control sk-hidden--visually\" id=\"sk-estimator-id-2\" type=\"checkbox\" checked><label for=\"sk-estimator-id-2\" class=\"sk-toggleable__label sk-toggleable__label-arrow\">LogisticRegression</label><div class=\"sk-toggleable__content\"><pre>LogisticRegression(C=0.01, solver=&#x27;newton-cg&#x27;)</pre></div></div></div></div></div>"
      ],
      "text/plain": [
       "LogisticRegression(C=0.01, solver='newton-cg')"
      ]
     },
     "execution_count": 31,
     "metadata": {},
     "output_type": "execute_result"
    }
   ],
   "source": [
    "#Train\n",
    "lr_model=LogisticRegression(penalty=\"l2\", solver=\"newton-cg\",C=0.01)\n",
    "lr_model.fit(x_train, y_train)"
   ]
  },
  {
   "cell_type": "code",
   "execution_count": 32,
   "metadata": {},
   "outputs": [],
   "source": [
    "lr_predictions=lr_model.predict(x_test)"
   ]
  },
  {
   "cell_type": "code",
   "execution_count": 33,
   "metadata": {},
   "outputs": [
    {
     "data": {
      "text/html": [
       "<div>\n",
       "<style scoped>\n",
       "    .dataframe tbody tr th:only-of-type {\n",
       "        vertical-align: middle;\n",
       "    }\n",
       "\n",
       "    .dataframe tbody tr th {\n",
       "        vertical-align: top;\n",
       "    }\n",
       "\n",
       "    .dataframe thead th {\n",
       "        text-align: right;\n",
       "    }\n",
       "</style>\n",
       "<table border=\"1\" class=\"dataframe\">\n",
       "  <thead>\n",
       "    <tr style=\"text-align: right;\">\n",
       "      <th></th>\n",
       "      <th>Predicted No Score</th>\n",
       "      <th>Predicted Score</th>\n",
       "    </tr>\n",
       "  </thead>\n",
       "  <tbody>\n",
       "    <tr>\n",
       "      <th>True No Score</th>\n",
       "      <td>2</td>\n",
       "      <td>15</td>\n",
       "    </tr>\n",
       "    <tr>\n",
       "      <th>True  Score</th>\n",
       "      <td>0</td>\n",
       "      <td>30</td>\n",
       "    </tr>\n",
       "  </tbody>\n",
       "</table>\n",
       "</div>"
      ],
      "text/plain": [
       "               Predicted No Score  Predicted Score\n",
       "True No Score                   2               15\n",
       "True  Score                     0               30"
      ]
     },
     "execution_count": 33,
     "metadata": {},
     "output_type": "execute_result"
    }
   ],
   "source": [
    "#Evaluate\n",
    "from sklearn import metrics\n",
    "lr_confusion_matrix=pd.DataFrame(metrics.confusion_matrix(y_test, lr_predictions, labels=[0,1]), index=['True No Score', 'True  Score'], columns=['Predicted No Score', 'Predicted Score'])\n",
    "lr_confusion_matrix"
   ]
  },
  {
   "cell_type": "code",
   "execution_count": 34,
   "metadata": {},
   "outputs": [],
   "source": [
    "lr_accuracy=metrics.accuracy_score(y_test, lr_predictions)\n",
    "lr_precision=metrics.precision_score(y_test, lr_predictions)\n",
    "lr_recall=metrics.recall_score(y_test, lr_predictions)\n",
    "lr_f1=metrics.f1_score(y_test, lr_predictions)"
   ]
  },
  {
   "cell_type": "code",
   "execution_count": 35,
   "metadata": {},
   "outputs": [],
   "source": [
    "lr_scores = cross_val_score(lr_model, x_train, y_train, cv=5, scoring='accuracy')\n",
    "\n",
    "lr_mean_accuracy = lr_scores.mean()\n",
    "std_accuracy = lr_scores.std()"
   ]
  },
  {
   "cell_type": "code",
   "execution_count": 36,
   "metadata": {},
   "outputs": [
    {
     "data": {
      "text/html": [
       "<div>\n",
       "<style scoped>\n",
       "    .dataframe tbody tr th:only-of-type {\n",
       "        vertical-align: middle;\n",
       "    }\n",
       "\n",
       "    .dataframe tbody tr th {\n",
       "        vertical-align: top;\n",
       "    }\n",
       "\n",
       "    .dataframe thead th {\n",
       "        text-align: right;\n",
       "    }\n",
       "</style>\n",
       "<table border=\"1\" class=\"dataframe\">\n",
       "  <thead>\n",
       "    <tr style=\"text-align: right;\">\n",
       "      <th></th>\n",
       "      <th>Logistic Regression</th>\n",
       "    </tr>\n",
       "  </thead>\n",
       "  <tbody>\n",
       "    <tr>\n",
       "      <th>Accuracy</th>\n",
       "      <td>0.680851</td>\n",
       "    </tr>\n",
       "    <tr>\n",
       "      <th>Precision</th>\n",
       "      <td>0.666667</td>\n",
       "    </tr>\n",
       "    <tr>\n",
       "      <th>Recall</th>\n",
       "      <td>1.000000</td>\n",
       "    </tr>\n",
       "    <tr>\n",
       "      <th>F1</th>\n",
       "      <td>0.800000</td>\n",
       "    </tr>\n",
       "    <tr>\n",
       "      <th>5-Fold CV Mean Accuracy</th>\n",
       "      <td>0.527177</td>\n",
       "    </tr>\n",
       "  </tbody>\n",
       "</table>\n",
       "</div>"
      ],
      "text/plain": [
       "                         Logistic Regression\n",
       "Accuracy                            0.680851\n",
       "Precision                           0.666667\n",
       "Recall                              1.000000\n",
       "F1                                  0.800000\n",
       "5-Fold CV Mean Accuracy             0.527177"
      ]
     },
     "execution_count": 36,
     "metadata": {},
     "output_type": "execute_result"
    }
   ],
   "source": [
    "lr_performance_summary=pd.DataFrame([lr_accuracy,lr_precision,lr_recall,lr_f1,lr_mean_accuracy],index=[\"Accuracy\",\"Precision\",\"Recall\",\"F1\", \"5-Fold CV Mean Accuracy\"],columns=[\"Logistic Regression\"])\n",
    "lr_performance_summary"
   ]
  },
  {
   "cell_type": "markdown",
   "metadata": {},
   "source": [
    "### Trial 2: Random Forest Classifier"
   ]
  },
  {
   "cell_type": "code",
   "execution_count": 37,
   "metadata": {},
   "outputs": [
    {
     "data": {
      "text/html": [
       "<style>#sk-container-id-3 {color: black;}#sk-container-id-3 pre{padding: 0;}#sk-container-id-3 div.sk-toggleable {background-color: white;}#sk-container-id-3 label.sk-toggleable__label {cursor: pointer;display: block;width: 100%;margin-bottom: 0;padding: 0.3em;box-sizing: border-box;text-align: center;}#sk-container-id-3 label.sk-toggleable__label-arrow:before {content: \"▸\";float: left;margin-right: 0.25em;color: #696969;}#sk-container-id-3 label.sk-toggleable__label-arrow:hover:before {color: black;}#sk-container-id-3 div.sk-estimator:hover label.sk-toggleable__label-arrow:before {color: black;}#sk-container-id-3 div.sk-toggleable__content {max-height: 0;max-width: 0;overflow: hidden;text-align: left;background-color: #f0f8ff;}#sk-container-id-3 div.sk-toggleable__content pre {margin: 0.2em;color: black;border-radius: 0.25em;background-color: #f0f8ff;}#sk-container-id-3 input.sk-toggleable__control:checked~div.sk-toggleable__content {max-height: 200px;max-width: 100%;overflow: auto;}#sk-container-id-3 input.sk-toggleable__control:checked~label.sk-toggleable__label-arrow:before {content: \"▾\";}#sk-container-id-3 div.sk-estimator input.sk-toggleable__control:checked~label.sk-toggleable__label {background-color: #d4ebff;}#sk-container-id-3 div.sk-label input.sk-toggleable__control:checked~label.sk-toggleable__label {background-color: #d4ebff;}#sk-container-id-3 input.sk-hidden--visually {border: 0;clip: rect(1px 1px 1px 1px);clip: rect(1px, 1px, 1px, 1px);height: 1px;margin: -1px;overflow: hidden;padding: 0;position: absolute;width: 1px;}#sk-container-id-3 div.sk-estimator {font-family: monospace;background-color: #f0f8ff;border: 1px dotted black;border-radius: 0.25em;box-sizing: border-box;margin-bottom: 0.5em;}#sk-container-id-3 div.sk-estimator:hover {background-color: #d4ebff;}#sk-container-id-3 div.sk-parallel-item::after {content: \"\";width: 100%;border-bottom: 1px solid gray;flex-grow: 1;}#sk-container-id-3 div.sk-label:hover label.sk-toggleable__label {background-color: #d4ebff;}#sk-container-id-3 div.sk-serial::before {content: \"\";position: absolute;border-left: 1px solid gray;box-sizing: border-box;top: 0;bottom: 0;left: 50%;z-index: 0;}#sk-container-id-3 div.sk-serial {display: flex;flex-direction: column;align-items: center;background-color: white;padding-right: 0.2em;padding-left: 0.2em;position: relative;}#sk-container-id-3 div.sk-item {position: relative;z-index: 1;}#sk-container-id-3 div.sk-parallel {display: flex;align-items: stretch;justify-content: center;background-color: white;position: relative;}#sk-container-id-3 div.sk-item::before, #sk-container-id-3 div.sk-parallel-item::before {content: \"\";position: absolute;border-left: 1px solid gray;box-sizing: border-box;top: 0;bottom: 0;left: 50%;z-index: -1;}#sk-container-id-3 div.sk-parallel-item {display: flex;flex-direction: column;z-index: 1;position: relative;background-color: white;}#sk-container-id-3 div.sk-parallel-item:first-child::after {align-self: flex-end;width: 50%;}#sk-container-id-3 div.sk-parallel-item:last-child::after {align-self: flex-start;width: 50%;}#sk-container-id-3 div.sk-parallel-item:only-child::after {width: 0;}#sk-container-id-3 div.sk-dashed-wrapped {border: 1px dashed gray;margin: 0 0.4em 0.5em 0.4em;box-sizing: border-box;padding-bottom: 0.4em;background-color: white;}#sk-container-id-3 div.sk-label label {font-family: monospace;font-weight: bold;display: inline-block;line-height: 1.2em;}#sk-container-id-3 div.sk-label-container {text-align: center;}#sk-container-id-3 div.sk-container {/* jupyter's `normalize.less` sets `[hidden] { display: none; }` but bootstrap.min.css set `[hidden] { display: none !important; }` so we also need the `!important` here to be able to override the default hidden behavior on the sphinx rendered scikit-learn.org. See: https://github.com/scikit-learn/scikit-learn/issues/21755 */display: inline-block !important;position: relative;}#sk-container-id-3 div.sk-text-repr-fallback {display: none;}</style><div id=\"sk-container-id-3\" class=\"sk-top-container\"><div class=\"sk-text-repr-fallback\"><pre>RandomForestClassifier(random_state=42)</pre><b>In a Jupyter environment, please rerun this cell to show the HTML representation or trust the notebook. <br />On GitHub, the HTML representation is unable to render, please try loading this page with nbviewer.org.</b></div><div class=\"sk-container\" hidden><div class=\"sk-item\"><div class=\"sk-estimator sk-toggleable\"><input class=\"sk-toggleable__control sk-hidden--visually\" id=\"sk-estimator-id-3\" type=\"checkbox\" checked><label for=\"sk-estimator-id-3\" class=\"sk-toggleable__label sk-toggleable__label-arrow\">RandomForestClassifier</label><div class=\"sk-toggleable__content\"><pre>RandomForestClassifier(random_state=42)</pre></div></div></div></div></div>"
      ],
      "text/plain": [
       "RandomForestClassifier(random_state=42)"
      ]
     },
     "execution_count": 37,
     "metadata": {},
     "output_type": "execute_result"
    }
   ],
   "source": [
    "from sklearn.ensemble import RandomForestClassifier\n",
    "rfc_model=RandomForestClassifier(random_state=42)\n",
    "rfc_model.fit(x_train, y_train)"
   ]
  },
  {
   "cell_type": "code",
   "execution_count": 38,
   "metadata": {},
   "outputs": [
    {
     "name": "stdout",
     "output_type": "stream",
     "text": [
      "Fitting 5 folds for each of 108 candidates, totalling 540 fits\n"
     ]
    }
   ],
   "source": [
    "#Random Forest hyperparameter tuning\n",
    "param_grid = {\n",
    "    'n_estimators': [50, 100, 200],  # Number of trees in the forest\n",
    "    'max_depth': [None, 10, 20, 30],  # Maximum depth of the tree\n",
    "    'min_samples_split': [2, 5, 10],  # Minimum samples required to split an internal node\n",
    "    'min_samples_leaf': [1, 2, 4]  # Minimum number of samples required to be at a leaf node\n",
    "}\n",
    "\n",
    "grid_search = GridSearchCV(estimator=rfc_model, param_grid=param_grid, \n",
    "                           cv=5, n_jobs=-1, verbose=2)\n",
    "\n",
    "# Perform the grid search on the training data\n",
    "grid_search.fit(x_train, y_train)\n",
    "\n",
    "# Get the best parameters and the best estimator\n",
    "best_params = grid_search.best_params_\n",
    "best_rf_classifier = grid_search.best_estimator_"
   ]
  },
  {
   "cell_type": "code",
   "execution_count": 39,
   "metadata": {},
   "outputs": [
    {
     "data": {
      "text/plain": [
       "{'max_depth': 10,\n",
       " 'min_samples_leaf': 4,\n",
       " 'min_samples_split': 2,\n",
       " 'n_estimators': 100}"
      ]
     },
     "execution_count": 39,
     "metadata": {},
     "output_type": "execute_result"
    }
   ],
   "source": [
    "best_params"
   ]
  },
  {
   "cell_type": "code",
   "execution_count": 40,
   "metadata": {},
   "outputs": [],
   "source": [
    "rfc_predictions=best_rf_classifier.predict(x_test)"
   ]
  },
  {
   "cell_type": "code",
   "execution_count": 41,
   "metadata": {},
   "outputs": [
    {
     "data": {
      "text/html": [
       "<div>\n",
       "<style scoped>\n",
       "    .dataframe tbody tr th:only-of-type {\n",
       "        vertical-align: middle;\n",
       "    }\n",
       "\n",
       "    .dataframe tbody tr th {\n",
       "        vertical-align: top;\n",
       "    }\n",
       "\n",
       "    .dataframe thead th {\n",
       "        text-align: right;\n",
       "    }\n",
       "</style>\n",
       "<table border=\"1\" class=\"dataframe\">\n",
       "  <thead>\n",
       "    <tr style=\"text-align: right;\">\n",
       "      <th></th>\n",
       "      <th>Predicted No Score</th>\n",
       "      <th>Predicted Score</th>\n",
       "    </tr>\n",
       "  </thead>\n",
       "  <tbody>\n",
       "    <tr>\n",
       "      <th>True No Score</th>\n",
       "      <td>10</td>\n",
       "      <td>7</td>\n",
       "    </tr>\n",
       "    <tr>\n",
       "      <th>True  Score</th>\n",
       "      <td>17</td>\n",
       "      <td>13</td>\n",
       "    </tr>\n",
       "  </tbody>\n",
       "</table>\n",
       "</div>"
      ],
      "text/plain": [
       "               Predicted No Score  Predicted Score\n",
       "True No Score                  10                7\n",
       "True  Score                    17               13"
      ]
     },
     "execution_count": 41,
     "metadata": {},
     "output_type": "execute_result"
    }
   ],
   "source": [
    "#Evaluate\n",
    "from sklearn import metrics\n",
    "rfc_confusion_matrix=pd.DataFrame(metrics.confusion_matrix(y_test, rfc_predictions, labels=[0,1]), index=['True No Score', 'True  Score'], columns=['Predicted No Score', 'Predicted Score'])\n",
    "rfc_confusion_matrix"
   ]
  },
  {
   "cell_type": "code",
   "execution_count": 42,
   "metadata": {},
   "outputs": [],
   "source": [
    "rfc_accuracy=metrics.accuracy_score(y_test, rfc_predictions)\n",
    "rfc_precision=metrics.precision_score(y_test, rfc_predictions)\n",
    "rfc_recall=metrics.recall_score(y_test, rfc_predictions)\n",
    "rfc_f1=metrics.f1_score(y_test, rfc_predictions)"
   ]
  },
  {
   "cell_type": "code",
   "execution_count": 43,
   "metadata": {},
   "outputs": [],
   "source": [
    "rfc_scores = cross_val_score(rfc_model, x_train, y_train, cv=5, scoring='accuracy')\n",
    "\n",
    "rfc_mean_accuracy = rfc_scores.mean()\n",
    "std_accuracy = rfc_scores.std()"
   ]
  },
  {
   "cell_type": "code",
   "execution_count": 44,
   "metadata": {},
   "outputs": [
    {
     "data": {
      "text/html": [
       "<div>\n",
       "<style scoped>\n",
       "    .dataframe tbody tr th:only-of-type {\n",
       "        vertical-align: middle;\n",
       "    }\n",
       "\n",
       "    .dataframe tbody tr th {\n",
       "        vertical-align: top;\n",
       "    }\n",
       "\n",
       "    .dataframe thead th {\n",
       "        text-align: right;\n",
       "    }\n",
       "</style>\n",
       "<table border=\"1\" class=\"dataframe\">\n",
       "  <thead>\n",
       "    <tr style=\"text-align: right;\">\n",
       "      <th></th>\n",
       "      <th>Random Forest Classifier</th>\n",
       "    </tr>\n",
       "  </thead>\n",
       "  <tbody>\n",
       "    <tr>\n",
       "      <th>Accuracy</th>\n",
       "      <td>0.489362</td>\n",
       "    </tr>\n",
       "    <tr>\n",
       "      <th>Precision</th>\n",
       "      <td>0.650000</td>\n",
       "    </tr>\n",
       "    <tr>\n",
       "      <th>Recall</th>\n",
       "      <td>0.433333</td>\n",
       "    </tr>\n",
       "    <tr>\n",
       "      <th>F1</th>\n",
       "      <td>0.520000</td>\n",
       "    </tr>\n",
       "    <tr>\n",
       "      <th>5-Fold CV Mean Accuracy</th>\n",
       "      <td>0.532432</td>\n",
       "    </tr>\n",
       "  </tbody>\n",
       "</table>\n",
       "</div>"
      ],
      "text/plain": [
       "                         Random Forest Classifier\n",
       "Accuracy                                 0.489362\n",
       "Precision                                0.650000\n",
       "Recall                                   0.433333\n",
       "F1                                       0.520000\n",
       "5-Fold CV Mean Accuracy                  0.532432"
      ]
     },
     "execution_count": 44,
     "metadata": {},
     "output_type": "execute_result"
    }
   ],
   "source": [
    "rfc_performance_summary=pd.DataFrame([rfc_accuracy,rfc_precision,rfc_recall,rfc_f1,rfc_mean_accuracy],index=[\"Accuracy\",\"Precision\",\"Recall\",\"F1\", \"5-Fold CV Mean Accuracy\"],columns=[\"Random Forest Classifier\"])\n",
    "rfc_performance_summary"
   ]
  },
  {
   "cell_type": "markdown",
   "metadata": {},
   "source": [
    "### Trial 3: SVM"
   ]
  },
  {
   "cell_type": "code",
   "execution_count": 45,
   "metadata": {},
   "outputs": [
    {
     "data": {
      "text/html": [
       "<style>#sk-container-id-4 {color: black;}#sk-container-id-4 pre{padding: 0;}#sk-container-id-4 div.sk-toggleable {background-color: white;}#sk-container-id-4 label.sk-toggleable__label {cursor: pointer;display: block;width: 100%;margin-bottom: 0;padding: 0.3em;box-sizing: border-box;text-align: center;}#sk-container-id-4 label.sk-toggleable__label-arrow:before {content: \"▸\";float: left;margin-right: 0.25em;color: #696969;}#sk-container-id-4 label.sk-toggleable__label-arrow:hover:before {color: black;}#sk-container-id-4 div.sk-estimator:hover label.sk-toggleable__label-arrow:before {color: black;}#sk-container-id-4 div.sk-toggleable__content {max-height: 0;max-width: 0;overflow: hidden;text-align: left;background-color: #f0f8ff;}#sk-container-id-4 div.sk-toggleable__content pre {margin: 0.2em;color: black;border-radius: 0.25em;background-color: #f0f8ff;}#sk-container-id-4 input.sk-toggleable__control:checked~div.sk-toggleable__content {max-height: 200px;max-width: 100%;overflow: auto;}#sk-container-id-4 input.sk-toggleable__control:checked~label.sk-toggleable__label-arrow:before {content: \"▾\";}#sk-container-id-4 div.sk-estimator input.sk-toggleable__control:checked~label.sk-toggleable__label {background-color: #d4ebff;}#sk-container-id-4 div.sk-label input.sk-toggleable__control:checked~label.sk-toggleable__label {background-color: #d4ebff;}#sk-container-id-4 input.sk-hidden--visually {border: 0;clip: rect(1px 1px 1px 1px);clip: rect(1px, 1px, 1px, 1px);height: 1px;margin: -1px;overflow: hidden;padding: 0;position: absolute;width: 1px;}#sk-container-id-4 div.sk-estimator {font-family: monospace;background-color: #f0f8ff;border: 1px dotted black;border-radius: 0.25em;box-sizing: border-box;margin-bottom: 0.5em;}#sk-container-id-4 div.sk-estimator:hover {background-color: #d4ebff;}#sk-container-id-4 div.sk-parallel-item::after {content: \"\";width: 100%;border-bottom: 1px solid gray;flex-grow: 1;}#sk-container-id-4 div.sk-label:hover label.sk-toggleable__label {background-color: #d4ebff;}#sk-container-id-4 div.sk-serial::before {content: \"\";position: absolute;border-left: 1px solid gray;box-sizing: border-box;top: 0;bottom: 0;left: 50%;z-index: 0;}#sk-container-id-4 div.sk-serial {display: flex;flex-direction: column;align-items: center;background-color: white;padding-right: 0.2em;padding-left: 0.2em;position: relative;}#sk-container-id-4 div.sk-item {position: relative;z-index: 1;}#sk-container-id-4 div.sk-parallel {display: flex;align-items: stretch;justify-content: center;background-color: white;position: relative;}#sk-container-id-4 div.sk-item::before, #sk-container-id-4 div.sk-parallel-item::before {content: \"\";position: absolute;border-left: 1px solid gray;box-sizing: border-box;top: 0;bottom: 0;left: 50%;z-index: -1;}#sk-container-id-4 div.sk-parallel-item {display: flex;flex-direction: column;z-index: 1;position: relative;background-color: white;}#sk-container-id-4 div.sk-parallel-item:first-child::after {align-self: flex-end;width: 50%;}#sk-container-id-4 div.sk-parallel-item:last-child::after {align-self: flex-start;width: 50%;}#sk-container-id-4 div.sk-parallel-item:only-child::after {width: 0;}#sk-container-id-4 div.sk-dashed-wrapped {border: 1px dashed gray;margin: 0 0.4em 0.5em 0.4em;box-sizing: border-box;padding-bottom: 0.4em;background-color: white;}#sk-container-id-4 div.sk-label label {font-family: monospace;font-weight: bold;display: inline-block;line-height: 1.2em;}#sk-container-id-4 div.sk-label-container {text-align: center;}#sk-container-id-4 div.sk-container {/* jupyter's `normalize.less` sets `[hidden] { display: none; }` but bootstrap.min.css set `[hidden] { display: none !important; }` so we also need the `!important` here to be able to override the default hidden behavior on the sphinx rendered scikit-learn.org. See: https://github.com/scikit-learn/scikit-learn/issues/21755 */display: inline-block !important;position: relative;}#sk-container-id-4 div.sk-text-repr-fallback {display: none;}</style><div id=\"sk-container-id-4\" class=\"sk-top-container\"><div class=\"sk-text-repr-fallback\"><pre>SVC()</pre><b>In a Jupyter environment, please rerun this cell to show the HTML representation or trust the notebook. <br />On GitHub, the HTML representation is unable to render, please try loading this page with nbviewer.org.</b></div><div class=\"sk-container\" hidden><div class=\"sk-item\"><div class=\"sk-estimator sk-toggleable\"><input class=\"sk-toggleable__control sk-hidden--visually\" id=\"sk-estimator-id-4\" type=\"checkbox\" checked><label for=\"sk-estimator-id-4\" class=\"sk-toggleable__label sk-toggleable__label-arrow\">SVC</label><div class=\"sk-toggleable__content\"><pre>SVC()</pre></div></div></div></div></div>"
      ],
      "text/plain": [
       "SVC()"
      ]
     },
     "execution_count": 45,
     "metadata": {},
     "output_type": "execute_result"
    }
   ],
   "source": [
    "from sklearn.svm import SVC\n",
    "svc_model=SVC()\n",
    "svc_model.fit(x_train, y_train)"
   ]
  },
  {
   "cell_type": "code",
   "execution_count": 46,
   "metadata": {},
   "outputs": [
    {
     "name": "stdout",
     "output_type": "stream",
     "text": [
      "Fitting 5 folds for each of 25 candidates, totalling 125 fits\n",
      "[CV 1/5] END ........C=0.1, gamma=1, kernel=rbf;, score=0.541 total time=   0.0s\n",
      "[CV 2/5] END ........C=0.1, gamma=1, kernel=rbf;, score=0.541 total time=   0.0s\n",
      "[CV 3/5] END ........C=0.1, gamma=1, kernel=rbf;, score=0.541 total time=   0.0s\n",
      "[CV 4/5] END ........C=0.1, gamma=1, kernel=rbf;, score=0.514 total time=   0.0s\n",
      "[CV 5/5] END ........C=0.1, gamma=1, kernel=rbf;, score=0.528 total time=   0.0s\n",
      "[CV 1/5] END ......C=0.1, gamma=0.1, kernel=rbf;, score=0.541 total time=   0.0s\n",
      "[CV 2/5] END ......C=0.1, gamma=0.1, kernel=rbf;, score=0.541 total time=   0.0s\n",
      "[CV 3/5] END ......C=0.1, gamma=0.1, kernel=rbf;, score=0.541 total time=   0.0s\n",
      "[CV 4/5] END ......C=0.1, gamma=0.1, kernel=rbf;, score=0.514 total time=   0.0s\n",
      "[CV 5/5] END ......C=0.1, gamma=0.1, kernel=rbf;, score=0.528 total time=   0.0s\n",
      "[CV 1/5] END .....C=0.1, gamma=0.01, kernel=rbf;, score=0.541 total time=   0.0s\n",
      "[CV 2/5] END .....C=0.1, gamma=0.01, kernel=rbf;, score=0.541 total time=   0.0s\n",
      "[CV 3/5] END .....C=0.1, gamma=0.01, kernel=rbf;, score=0.541 total time=   0.0s\n",
      "[CV 4/5] END .....C=0.1, gamma=0.01, kernel=rbf;, score=0.514 total time=   0.0s\n",
      "[CV 5/5] END .....C=0.1, gamma=0.01, kernel=rbf;, score=0.528 total time=   0.0s\n",
      "[CV 1/5] END ....C=0.1, gamma=0.001, kernel=rbf;, score=0.541 total time=   0.0s\n",
      "[CV 2/5] END ....C=0.1, gamma=0.001, kernel=rbf;, score=0.541 total time=   0.0s\n",
      "[CV 3/5] END ....C=0.1, gamma=0.001, kernel=rbf;, score=0.541 total time=   0.0s\n",
      "[CV 4/5] END ....C=0.1, gamma=0.001, kernel=rbf;, score=0.514 total time=   0.0s\n",
      "[CV 5/5] END ....C=0.1, gamma=0.001, kernel=rbf;, score=0.528 total time=   0.0s\n",
      "[CV 1/5] END ...C=0.1, gamma=0.0001, kernel=rbf;, score=0.541 total time=   0.0s\n",
      "[CV 2/5] END ...C=0.1, gamma=0.0001, kernel=rbf;, score=0.541 total time=   0.0s\n",
      "[CV 3/5] END ...C=0.1, gamma=0.0001, kernel=rbf;, score=0.541 total time=   0.0s\n",
      "[CV 4/5] END ...C=0.1, gamma=0.0001, kernel=rbf;, score=0.514 total time=   0.0s\n",
      "[CV 5/5] END ...C=0.1, gamma=0.0001, kernel=rbf;, score=0.528 total time=   0.0s\n",
      "[CV 1/5] END ..........C=1, gamma=1, kernel=rbf;, score=0.486 total time=   0.0s\n",
      "[CV 2/5] END ..........C=1, gamma=1, kernel=rbf;, score=0.595 total time=   0.0s\n",
      "[CV 3/5] END ..........C=1, gamma=1, kernel=rbf;, score=0.595 total time=   0.0s\n",
      "[CV 4/5] END ..........C=1, gamma=1, kernel=rbf;, score=0.541 total time=   0.0s\n",
      "[CV 5/5] END ..........C=1, gamma=1, kernel=rbf;, score=0.611 total time=   0.0s\n",
      "[CV 1/5] END ........C=1, gamma=0.1, kernel=rbf;, score=0.432 total time=   0.0s\n",
      "[CV 2/5] END ........C=1, gamma=0.1, kernel=rbf;, score=0.486 total time=   0.0s\n",
      "[CV 3/5] END ........C=1, gamma=0.1, kernel=rbf;, score=0.595 total time=   0.0s\n",
      "[CV 4/5] END ........C=1, gamma=0.1, kernel=rbf;, score=0.595 total time=   0.0s\n",
      "[CV 5/5] END ........C=1, gamma=0.1, kernel=rbf;, score=0.500 total time=   0.0s\n",
      "[CV 1/5] END .......C=1, gamma=0.01, kernel=rbf;, score=0.541 total time=   0.0s\n",
      "[CV 2/5] END .......C=1, gamma=0.01, kernel=rbf;, score=0.541 total time=   0.0s\n",
      "[CV 3/5] END .......C=1, gamma=0.01, kernel=rbf;, score=0.541 total time=   0.0s\n",
      "[CV 4/5] END .......C=1, gamma=0.01, kernel=rbf;, score=0.514 total time=   0.0s\n",
      "[CV 5/5] END .......C=1, gamma=0.01, kernel=rbf;, score=0.528 total time=   0.0s\n",
      "[CV 1/5] END ......C=1, gamma=0.001, kernel=rbf;, score=0.541 total time=   0.0s\n",
      "[CV 2/5] END ......C=1, gamma=0.001, kernel=rbf;, score=0.541 total time=   0.0s\n",
      "[CV 3/5] END ......C=1, gamma=0.001, kernel=rbf;, score=0.541 total time=   0.0s\n",
      "[CV 4/5] END ......C=1, gamma=0.001, kernel=rbf;, score=0.514 total time=   0.0s\n",
      "[CV 5/5] END ......C=1, gamma=0.001, kernel=rbf;, score=0.528 total time=   0.0s\n",
      "[CV 1/5] END .....C=1, gamma=0.0001, kernel=rbf;, score=0.541 total time=   0.0s\n",
      "[CV 2/5] END .....C=1, gamma=0.0001, kernel=rbf;, score=0.541 total time=   0.0s\n",
      "[CV 3/5] END .....C=1, gamma=0.0001, kernel=rbf;, score=0.541 total time=   0.0s\n",
      "[CV 4/5] END .....C=1, gamma=0.0001, kernel=rbf;, score=0.514 total time=   0.0s\n",
      "[CV 5/5] END .....C=1, gamma=0.0001, kernel=rbf;, score=0.528 total time=   0.0s\n",
      "[CV 1/5] END .........C=10, gamma=1, kernel=rbf;, score=0.459 total time=   0.0s\n",
      "[CV 2/5] END .........C=10, gamma=1, kernel=rbf;, score=0.595 total time=   0.0s\n",
      "[CV 3/5] END .........C=10, gamma=1, kernel=rbf;, score=0.676 total time=   0.0s\n",
      "[CV 4/5] END .........C=10, gamma=1, kernel=rbf;, score=0.514 total time=   0.0s\n",
      "[CV 5/5] END .........C=10, gamma=1, kernel=rbf;, score=0.556 total time=   0.0s\n",
      "[CV 1/5] END .......C=10, gamma=0.1, kernel=rbf;, score=0.432 total time=   0.0s\n",
      "[CV 2/5] END .......C=10, gamma=0.1, kernel=rbf;, score=0.514 total time=   0.0s\n",
      "[CV 3/5] END .......C=10, gamma=0.1, kernel=rbf;, score=0.595 total time=   0.0s\n",
      "[CV 4/5] END .......C=10, gamma=0.1, kernel=rbf;, score=0.568 total time=   0.0s\n",
      "[CV 5/5] END .......C=10, gamma=0.1, kernel=rbf;, score=0.500 total time=   0.0s\n",
      "[CV 1/5] END ......C=10, gamma=0.01, kernel=rbf;, score=0.378 total time=   0.0s\n",
      "[CV 2/5] END ......C=10, gamma=0.01, kernel=rbf;, score=0.486 total time=   0.0s\n",
      "[CV 3/5] END ......C=10, gamma=0.01, kernel=rbf;, score=0.568 total time=   0.0s\n",
      "[CV 4/5] END ......C=10, gamma=0.01, kernel=rbf;, score=0.541 total time=   0.0s\n",
      "[CV 5/5] END ......C=10, gamma=0.01, kernel=rbf;, score=0.500 total time=   0.0s\n",
      "[CV 1/5] END .....C=10, gamma=0.001, kernel=rbf;, score=0.541 total time=   0.0s\n",
      "[CV 2/5] END .....C=10, gamma=0.001, kernel=rbf;, score=0.541 total time=   0.0s\n",
      "[CV 3/5] END .....C=10, gamma=0.001, kernel=rbf;, score=0.541 total time=   0.0s\n",
      "[CV 4/5] END .....C=10, gamma=0.001, kernel=rbf;, score=0.514 total time=   0.0s\n",
      "[CV 5/5] END .....C=10, gamma=0.001, kernel=rbf;, score=0.528 total time=   0.0s\n",
      "[CV 1/5] END ....C=10, gamma=0.0001, kernel=rbf;, score=0.541 total time=   0.0s\n",
      "[CV 2/5] END ....C=10, gamma=0.0001, kernel=rbf;, score=0.541 total time=   0.0s\n",
      "[CV 3/5] END ....C=10, gamma=0.0001, kernel=rbf;, score=0.541 total time=   0.0s\n",
      "[CV 4/5] END ....C=10, gamma=0.0001, kernel=rbf;, score=0.514 total time=   0.0s\n",
      "[CV 5/5] END ....C=10, gamma=0.0001, kernel=rbf;, score=0.528 total time=   0.0s\n",
      "[CV 1/5] END ........C=100, gamma=1, kernel=rbf;, score=0.486 total time=   0.0s\n",
      "[CV 2/5] END ........C=100, gamma=1, kernel=rbf;, score=0.568 total time=   0.0s\n",
      "[CV 3/5] END ........C=100, gamma=1, kernel=rbf;, score=0.649 total time=   0.0s\n",
      "[CV 4/5] END ........C=100, gamma=1, kernel=rbf;, score=0.514 total time=   0.0s\n",
      "[CV 5/5] END ........C=100, gamma=1, kernel=rbf;, score=0.639 total time=   0.0s\n",
      "[CV 1/5] END ......C=100, gamma=0.1, kernel=rbf;, score=0.486 total time=   0.0s\n",
      "[CV 2/5] END ......C=100, gamma=0.1, kernel=rbf;, score=0.486 total time=   0.0s\n",
      "[CV 3/5] END ......C=100, gamma=0.1, kernel=rbf;, score=0.595 total time=   0.0s\n",
      "[CV 4/5] END ......C=100, gamma=0.1, kernel=rbf;, score=0.541 total time=   0.0s\n",
      "[CV 5/5] END ......C=100, gamma=0.1, kernel=rbf;, score=0.556 total time=   0.0s\n",
      "[CV 1/5] END .....C=100, gamma=0.01, kernel=rbf;, score=0.432 total time=   0.0s\n",
      "[CV 2/5] END .....C=100, gamma=0.01, kernel=rbf;, score=0.514 total time=   0.0s\n",
      "[CV 3/5] END .....C=100, gamma=0.01, kernel=rbf;, score=0.595 total time=   0.0s\n",
      "[CV 4/5] END .....C=100, gamma=0.01, kernel=rbf;, score=0.622 total time=   0.0s\n",
      "[CV 5/5] END .....C=100, gamma=0.01, kernel=rbf;, score=0.444 total time=   0.0s\n",
      "[CV 1/5] END ....C=100, gamma=0.001, kernel=rbf;, score=0.405 total time=   0.0s\n",
      "[CV 2/5] END ....C=100, gamma=0.001, kernel=rbf;, score=0.514 total time=   0.0s\n",
      "[CV 3/5] END ....C=100, gamma=0.001, kernel=rbf;, score=0.568 total time=   0.0s\n",
      "[CV 4/5] END ....C=100, gamma=0.001, kernel=rbf;, score=0.486 total time=   0.0s\n",
      "[CV 5/5] END ....C=100, gamma=0.001, kernel=rbf;, score=0.528 total time=   0.0s\n",
      "[CV 1/5] END ...C=100, gamma=0.0001, kernel=rbf;, score=0.541 total time=   0.0s\n",
      "[CV 2/5] END ...C=100, gamma=0.0001, kernel=rbf;, score=0.541 total time=   0.0s\n",
      "[CV 3/5] END ...C=100, gamma=0.0001, kernel=rbf;, score=0.541 total time=   0.0s\n",
      "[CV 4/5] END ...C=100, gamma=0.0001, kernel=rbf;, score=0.514 total time=   0.0s\n",
      "[CV 5/5] END ...C=100, gamma=0.0001, kernel=rbf;, score=0.528 total time=   0.0s\n",
      "[CV 1/5] END .......C=1000, gamma=1, kernel=rbf;, score=0.514 total time=   0.0s\n",
      "[CV 2/5] END .......C=1000, gamma=1, kernel=rbf;, score=0.541 total time=   0.0s\n",
      "[CV 3/5] END .......C=1000, gamma=1, kernel=rbf;, score=0.541 total time=   0.0s\n",
      "[CV 4/5] END .......C=1000, gamma=1, kernel=rbf;, score=0.432 total time=   0.0s\n",
      "[CV 5/5] END .......C=1000, gamma=1, kernel=rbf;, score=0.528 total time=   0.0s\n",
      "[CV 1/5] END .....C=1000, gamma=0.1, kernel=rbf;, score=0.486 total time=   0.0s\n",
      "[CV 2/5] END .....C=1000, gamma=0.1, kernel=rbf;, score=0.568 total time=   0.0s\n",
      "[CV 3/5] END .....C=1000, gamma=0.1, kernel=rbf;, score=0.568 total time=   0.0s\n",
      "[CV 4/5] END .....C=1000, gamma=0.1, kernel=rbf;, score=0.595 total time=   0.0s\n",
      "[CV 5/5] END .....C=1000, gamma=0.1, kernel=rbf;, score=0.528 total time=   0.0s\n",
      "[CV 1/5] END ....C=1000, gamma=0.01, kernel=rbf;, score=0.405 total time=   0.0s\n",
      "[CV 2/5] END ....C=1000, gamma=0.01, kernel=rbf;, score=0.432 total time=   0.0s\n",
      "[CV 3/5] END ....C=1000, gamma=0.01, kernel=rbf;, score=0.568 total time=   0.0s\n",
      "[CV 4/5] END ....C=1000, gamma=0.01, kernel=rbf;, score=0.486 total time=   0.0s\n",
      "[CV 5/5] END ....C=1000, gamma=0.01, kernel=rbf;, score=0.556 total time=   0.0s\n",
      "[CV 1/5] END ...C=1000, gamma=0.001, kernel=rbf;, score=0.432 total time=   0.0s\n",
      "[CV 2/5] END ...C=1000, gamma=0.001, kernel=rbf;, score=0.568 total time=   0.0s\n",
      "[CV 3/5] END ...C=1000, gamma=0.001, kernel=rbf;, score=0.595 total time=   0.0s\n",
      "[CV 4/5] END ...C=1000, gamma=0.001, kernel=rbf;, score=0.595 total time=   0.0s\n",
      "[CV 5/5] END ...C=1000, gamma=0.001, kernel=rbf;, score=0.389 total time=   0.0s\n",
      "[CV 1/5] END ..C=1000, gamma=0.0001, kernel=rbf;, score=0.405 total time=   0.0s\n",
      "[CV 2/5] END ..C=1000, gamma=0.0001, kernel=rbf;, score=0.514 total time=   0.0s\n",
      "[CV 3/5] END ..C=1000, gamma=0.0001, kernel=rbf;, score=0.568 total time=   0.0s\n",
      "[CV 4/5] END ..C=1000, gamma=0.0001, kernel=rbf;, score=0.486 total time=   0.0s\n",
      "[CV 5/5] END ..C=1000, gamma=0.0001, kernel=rbf;, score=0.528 total time=   0.0s\n"
     ]
    }
   ],
   "source": [
    "param_grid = {'C': [0.1, 1, 10, 100, 1000],  \n",
    "              'gamma': [1, 0.1, 0.01, 0.001, 0.0001], \n",
    "              'kernel': ['rbf']}  \n",
    "  \n",
    "grid = GridSearchCV(svc_model, param_grid, refit = True, verbose = 3) \n",
    "\n",
    "grid.fit(x_train, y_train)\n",
    "\n",
    "# Get the best parameters and the best estimator\n",
    "best_params = grid.best_params_\n",
    "best_svc = grid.best_estimator_"
   ]
  },
  {
   "cell_type": "code",
   "execution_count": 47,
   "metadata": {},
   "outputs": [],
   "source": [
    "svc_predictions = grid.predict(x_test) "
   ]
  },
  {
   "cell_type": "code",
   "execution_count": 48,
   "metadata": {},
   "outputs": [
    {
     "data": {
      "text/html": [
       "<div>\n",
       "<style scoped>\n",
       "    .dataframe tbody tr th:only-of-type {\n",
       "        vertical-align: middle;\n",
       "    }\n",
       "\n",
       "    .dataframe tbody tr th {\n",
       "        vertical-align: top;\n",
       "    }\n",
       "\n",
       "    .dataframe thead th {\n",
       "        text-align: right;\n",
       "    }\n",
       "</style>\n",
       "<table border=\"1\" class=\"dataframe\">\n",
       "  <thead>\n",
       "    <tr style=\"text-align: right;\">\n",
       "      <th></th>\n",
       "      <th>Predicted No Score</th>\n",
       "      <th>Predicted Score</th>\n",
       "    </tr>\n",
       "  </thead>\n",
       "  <tbody>\n",
       "    <tr>\n",
       "      <th>True No Score</th>\n",
       "      <td>10</td>\n",
       "      <td>7</td>\n",
       "    </tr>\n",
       "    <tr>\n",
       "      <th>True  Score</th>\n",
       "      <td>15</td>\n",
       "      <td>15</td>\n",
       "    </tr>\n",
       "  </tbody>\n",
       "</table>\n",
       "</div>"
      ],
      "text/plain": [
       "               Predicted No Score  Predicted Score\n",
       "True No Score                  10                7\n",
       "True  Score                    15               15"
      ]
     },
     "execution_count": 48,
     "metadata": {},
     "output_type": "execute_result"
    }
   ],
   "source": [
    "#Evaluate\n",
    "from sklearn import metrics\n",
    "svc_confusion_matrix=pd.DataFrame(metrics.confusion_matrix(y_test, svc_predictions, labels=[0,1]), index=['True No Score', 'True  Score'], columns=['Predicted No Score', 'Predicted Score'])\n",
    "svc_confusion_matrix"
   ]
  },
  {
   "cell_type": "code",
   "execution_count": 49,
   "metadata": {},
   "outputs": [],
   "source": [
    "svc_accuracy=metrics.accuracy_score(y_test, svc_predictions)\n",
    "svc_precision=metrics.precision_score(y_test, svc_predictions)\n",
    "svc_recall=metrics.recall_score(y_test, svc_predictions)\n",
    "svc_f1=metrics.f1_score(y_test, svc_predictions)"
   ]
  },
  {
   "cell_type": "code",
   "execution_count": 50,
   "metadata": {},
   "outputs": [],
   "source": [
    "svc_scores = cross_val_score(svc_model, x_train, y_train, cv=5, scoring='accuracy')\n",
    "\n",
    "svc_mean_accuracy = svc_scores.mean()\n",
    "std_accuracy = svc_scores.std()"
   ]
  },
  {
   "cell_type": "code",
   "execution_count": 51,
   "metadata": {},
   "outputs": [
    {
     "data": {
      "text/html": [
       "<div>\n",
       "<style scoped>\n",
       "    .dataframe tbody tr th:only-of-type {\n",
       "        vertical-align: middle;\n",
       "    }\n",
       "\n",
       "    .dataframe tbody tr th {\n",
       "        vertical-align: top;\n",
       "    }\n",
       "\n",
       "    .dataframe thead th {\n",
       "        text-align: right;\n",
       "    }\n",
       "</style>\n",
       "<table border=\"1\" class=\"dataframe\">\n",
       "  <thead>\n",
       "    <tr style=\"text-align: right;\">\n",
       "      <th></th>\n",
       "      <th>Light SVC</th>\n",
       "    </tr>\n",
       "  </thead>\n",
       "  <tbody>\n",
       "    <tr>\n",
       "      <th>Accuracy</th>\n",
       "      <td>0.531915</td>\n",
       "    </tr>\n",
       "    <tr>\n",
       "      <th>Precision</th>\n",
       "      <td>0.681818</td>\n",
       "    </tr>\n",
       "    <tr>\n",
       "      <th>Recall</th>\n",
       "      <td>0.500000</td>\n",
       "    </tr>\n",
       "    <tr>\n",
       "      <th>F1</th>\n",
       "      <td>0.576923</td>\n",
       "    </tr>\n",
       "    <tr>\n",
       "      <th>5-Fold CV Mean Accuracy</th>\n",
       "      <td>0.510961</td>\n",
       "    </tr>\n",
       "  </tbody>\n",
       "</table>\n",
       "</div>"
      ],
      "text/plain": [
       "                         Light SVC\n",
       "Accuracy                  0.531915\n",
       "Precision                 0.681818\n",
       "Recall                    0.500000\n",
       "F1                        0.576923\n",
       "5-Fold CV Mean Accuracy   0.510961"
      ]
     },
     "execution_count": 51,
     "metadata": {},
     "output_type": "execute_result"
    }
   ],
   "source": [
    "svc_performance_summary=pd.DataFrame([svc_accuracy,svc_precision,svc_recall,svc_f1,svc_mean_accuracy],index=[\"Accuracy\",\"Precision\",\"Recall\",\"F1\", \"5-Fold CV Mean Accuracy\"],columns=[\"Light SVC\"])\n",
    "svc_performance_summary"
   ]
  },
  {
   "cell_type": "markdown",
   "metadata": {},
   "source": [
    "## Part IV: Model Selection "
   ]
  },
  {
   "cell_type": "code",
   "execution_count": 52,
   "metadata": {},
   "outputs": [
    {
     "data": {
      "text/html": [
       "<div>\n",
       "<style scoped>\n",
       "    .dataframe tbody tr th:only-of-type {\n",
       "        vertical-align: middle;\n",
       "    }\n",
       "\n",
       "    .dataframe tbody tr th {\n",
       "        vertical-align: top;\n",
       "    }\n",
       "\n",
       "    .dataframe thead th {\n",
       "        text-align: right;\n",
       "    }\n",
       "</style>\n",
       "<table border=\"1\" class=\"dataframe\">\n",
       "  <thead>\n",
       "    <tr style=\"text-align: right;\">\n",
       "      <th></th>\n",
       "      <th>Logistic Regression</th>\n",
       "      <th>Random Forest Classifier</th>\n",
       "      <th>Light SVC</th>\n",
       "    </tr>\n",
       "  </thead>\n",
       "  <tbody>\n",
       "    <tr>\n",
       "      <th>Accuracy</th>\n",
       "      <td>0.680851</td>\n",
       "      <td>0.489362</td>\n",
       "      <td>0.531915</td>\n",
       "    </tr>\n",
       "    <tr>\n",
       "      <th>Precision</th>\n",
       "      <td>0.666667</td>\n",
       "      <td>0.650000</td>\n",
       "      <td>0.681818</td>\n",
       "    </tr>\n",
       "    <tr>\n",
       "      <th>Recall</th>\n",
       "      <td>1.000000</td>\n",
       "      <td>0.433333</td>\n",
       "      <td>0.500000</td>\n",
       "    </tr>\n",
       "    <tr>\n",
       "      <th>F1</th>\n",
       "      <td>0.800000</td>\n",
       "      <td>0.520000</td>\n",
       "      <td>0.576923</td>\n",
       "    </tr>\n",
       "    <tr>\n",
       "      <th>5-Fold CV Mean Accuracy</th>\n",
       "      <td>0.527177</td>\n",
       "      <td>0.532432</td>\n",
       "      <td>0.510961</td>\n",
       "    </tr>\n",
       "  </tbody>\n",
       "</table>\n",
       "</div>"
      ],
      "text/plain": [
       "                         Logistic Regression  Random Forest Classifier  \\\n",
       "Accuracy                            0.680851                  0.489362   \n",
       "Precision                           0.666667                  0.650000   \n",
       "Recall                              1.000000                  0.433333   \n",
       "F1                                  0.800000                  0.520000   \n",
       "5-Fold CV Mean Accuracy             0.527177                  0.532432   \n",
       "\n",
       "                         Light SVC  \n",
       "Accuracy                  0.531915  \n",
       "Precision                 0.681818  \n",
       "Recall                    0.500000  \n",
       "F1                        0.576923  \n",
       "5-Fold CV Mean Accuracy   0.510961  "
      ]
     },
     "execution_count": 52,
     "metadata": {},
     "output_type": "execute_result"
    }
   ],
   "source": [
    "full_performance_summary=pd.merge(lr_performance_summary,rfc_performance_summary,left_index=True, right_index=True, how=\"inner\")\n",
    "full_performance_summary=pd.merge(full_performance_summary,svc_performance_summary,left_index=True, right_index=True, how=\"inner\")\n",
    "full_performance_summary"
   ]
  },
  {
   "cell_type": "markdown",
   "metadata": {},
   "source": [
    "## Part V: Model Interpretation"
   ]
  },
  {
   "cell_type": "code",
   "execution_count": 53,
   "metadata": {},
   "outputs": [
    {
     "data": {
      "text/html": [
       "<div>\n",
       "<style scoped>\n",
       "    .dataframe tbody tr th:only-of-type {\n",
       "        vertical-align: middle;\n",
       "    }\n",
       "\n",
       "    .dataframe tbody tr th {\n",
       "        vertical-align: top;\n",
       "    }\n",
       "\n",
       "    .dataframe thead th {\n",
       "        text-align: right;\n",
       "    }\n",
       "</style>\n",
       "<table border=\"1\" class=\"dataframe\">\n",
       "  <thead>\n",
       "    <tr style=\"text-align: right;\">\n",
       "      <th></th>\n",
       "      <th>LR Model Coefficient</th>\n",
       "    </tr>\n",
       "  </thead>\n",
       "  <tbody>\n",
       "    <tr>\n",
       "      <th>Opponent Form</th>\n",
       "      <td>-0.014461</td>\n",
       "    </tr>\n",
       "    <tr>\n",
       "      <th>Apr</th>\n",
       "      <td>-0.015270</td>\n",
       "    </tr>\n",
       "    <tr>\n",
       "      <th>Aug</th>\n",
       "      <td>0.036303</td>\n",
       "    </tr>\n",
       "    <tr>\n",
       "      <th>Dec</th>\n",
       "      <td>0.006493</td>\n",
       "    </tr>\n",
       "    <tr>\n",
       "      <th>Feb</th>\n",
       "      <td>0.000271</td>\n",
       "    </tr>\n",
       "    <tr>\n",
       "      <th>Jan</th>\n",
       "      <td>-0.018129</td>\n",
       "    </tr>\n",
       "    <tr>\n",
       "      <th>Jul</th>\n",
       "      <td>-0.006239</td>\n",
       "    </tr>\n",
       "    <tr>\n",
       "      <th>Jun</th>\n",
       "      <td>-0.018222</td>\n",
       "    </tr>\n",
       "    <tr>\n",
       "      <th>Mar</th>\n",
       "      <td>-0.032791</td>\n",
       "    </tr>\n",
       "    <tr>\n",
       "      <th>May</th>\n",
       "      <td>-0.024492</td>\n",
       "    </tr>\n",
       "    <tr>\n",
       "      <th>Nov</th>\n",
       "      <td>0.016423</td>\n",
       "    </tr>\n",
       "    <tr>\n",
       "      <th>Oct</th>\n",
       "      <td>0.031874</td>\n",
       "    </tr>\n",
       "    <tr>\n",
       "      <th>Sep</th>\n",
       "      <td>0.023780</td>\n",
       "    </tr>\n",
       "    <tr>\n",
       "      <th>Fri</th>\n",
       "      <td>-0.001751</td>\n",
       "    </tr>\n",
       "    <tr>\n",
       "      <th>Mon</th>\n",
       "      <td>-0.006473</td>\n",
       "    </tr>\n",
       "    <tr>\n",
       "      <th>Sat</th>\n",
       "      <td>0.009888</td>\n",
       "    </tr>\n",
       "    <tr>\n",
       "      <th>Sun</th>\n",
       "      <td>-0.010473</td>\n",
       "    </tr>\n",
       "    <tr>\n",
       "      <th>Thu</th>\n",
       "      <td>-0.017802</td>\n",
       "    </tr>\n",
       "    <tr>\n",
       "      <th>Tue</th>\n",
       "      <td>0.011644</td>\n",
       "    </tr>\n",
       "    <tr>\n",
       "      <th>Wed</th>\n",
       "      <td>0.014966</td>\n",
       "    </tr>\n",
       "    <tr>\n",
       "      <th>Away</th>\n",
       "      <td>-0.027451</td>\n",
       "    </tr>\n",
       "    <tr>\n",
       "      <th>Home</th>\n",
       "      <td>0.048763</td>\n",
       "    </tr>\n",
       "    <tr>\n",
       "      <th>Neutral</th>\n",
       "      <td>-0.021312</td>\n",
       "    </tr>\n",
       "    <tr>\n",
       "      <th>N</th>\n",
       "      <td>-0.046670</td>\n",
       "    </tr>\n",
       "    <tr>\n",
       "      <th>Y</th>\n",
       "      <td>0.046670</td>\n",
       "    </tr>\n",
       "    <tr>\n",
       "      <th>Domestic Cup Final</th>\n",
       "      <td>-0.011003</td>\n",
       "    </tr>\n",
       "    <tr>\n",
       "      <th>Domestic Cup First round</th>\n",
       "      <td>-0.005261</td>\n",
       "    </tr>\n",
       "    <tr>\n",
       "      <th>Domestic Cup Fourth round</th>\n",
       "      <td>-0.000758</td>\n",
       "    </tr>\n",
       "    <tr>\n",
       "      <th>Domestic Cup Quarter-finals</th>\n",
       "      <td>-0.000345</td>\n",
       "    </tr>\n",
       "    <tr>\n",
       "      <th>Domestic Cup Round of 16</th>\n",
       "      <td>0.014209</td>\n",
       "    </tr>\n",
       "    <tr>\n",
       "      <th>Domestic Cup Round of 64</th>\n",
       "      <td>0.004643</td>\n",
       "    </tr>\n",
       "    <tr>\n",
       "      <th>Domestic Cup Semi-finals</th>\n",
       "      <td>-0.005215</td>\n",
       "    </tr>\n",
       "    <tr>\n",
       "      <th>Domestic League Regular season</th>\n",
       "      <td>0.001584</td>\n",
       "    </tr>\n",
       "    <tr>\n",
       "      <th>European Club Competition Final</th>\n",
       "      <td>-0.010712</td>\n",
       "    </tr>\n",
       "    <tr>\n",
       "      <th>European Club Competition Group stage</th>\n",
       "      <td>0.032578</td>\n",
       "    </tr>\n",
       "    <tr>\n",
       "      <th>European Club Competition Qualifying</th>\n",
       "      <td>-0.005942</td>\n",
       "    </tr>\n",
       "    <tr>\n",
       "      <th>European Club Competition Quarter-finals</th>\n",
       "      <td>-0.000810</td>\n",
       "    </tr>\n",
       "    <tr>\n",
       "      <th>European Club Competition Round of 16</th>\n",
       "      <td>-0.001036</td>\n",
       "    </tr>\n",
       "    <tr>\n",
       "      <th>European Club Competition Semi-finals</th>\n",
       "      <td>-0.010527</td>\n",
       "    </tr>\n",
       "    <tr>\n",
       "      <th>International Friendly</th>\n",
       "      <td>0.004017</td>\n",
       "    </tr>\n",
       "    <tr>\n",
       "      <th>UEFA Euros Qualifying</th>\n",
       "      <td>-0.011212</td>\n",
       "    </tr>\n",
       "    <tr>\n",
       "      <th>UEFA Nations League Group stage</th>\n",
       "      <td>0.007827</td>\n",
       "    </tr>\n",
       "    <tr>\n",
       "      <th>World Cup Qualifying</th>\n",
       "      <td>-0.002037</td>\n",
       "    </tr>\n",
       "  </tbody>\n",
       "</table>\n",
       "</div>"
      ],
      "text/plain": [
       "                                          LR Model Coefficient\n",
       "Opponent Form                                        -0.014461\n",
       "Apr                                                  -0.015270\n",
       "Aug                                                   0.036303\n",
       "Dec                                                   0.006493\n",
       "Feb                                                   0.000271\n",
       "Jan                                                  -0.018129\n",
       "Jul                                                  -0.006239\n",
       "Jun                                                  -0.018222\n",
       "Mar                                                  -0.032791\n",
       "May                                                  -0.024492\n",
       "Nov                                                   0.016423\n",
       "Oct                                                   0.031874\n",
       "Sep                                                   0.023780\n",
       "Fri                                                  -0.001751\n",
       "Mon                                                  -0.006473\n",
       "Sat                                                   0.009888\n",
       "Sun                                                  -0.010473\n",
       "Thu                                                  -0.017802\n",
       "Tue                                                   0.011644\n",
       "Wed                                                   0.014966\n",
       "Away                                                 -0.027451\n",
       "Home                                                  0.048763\n",
       "Neutral                                              -0.021312\n",
       "N                                                    -0.046670\n",
       "Y                                                     0.046670\n",
       "Domestic Cup Final                                   -0.011003\n",
       "Domestic Cup First round                             -0.005261\n",
       "Domestic Cup Fourth round                            -0.000758\n",
       "Domestic Cup Quarter-finals                          -0.000345\n",
       "Domestic Cup Round of 16                              0.014209\n",
       "Domestic Cup Round of 64                              0.004643\n",
       "Domestic Cup Semi-finals                             -0.005215\n",
       "Domestic League Regular season                        0.001584\n",
       "European Club Competition Final                      -0.010712\n",
       "European Club Competition Group stage                 0.032578\n",
       "European Club Competition Qualifying                 -0.005942\n",
       "European Club Competition Quarter-finals             -0.000810\n",
       "European Club Competition Round of 16                -0.001036\n",
       "European Club Competition Semi-finals                -0.010527\n",
       "International Friendly                                0.004017\n",
       "UEFA Euros Qualifying                                -0.011212\n",
       "UEFA Nations League Group stage                       0.007827\n",
       "World Cup Qualifying                                 -0.002037"
      ]
     },
     "execution_count": 53,
     "metadata": {},
     "output_type": "execute_result"
    }
   ],
   "source": [
    "coefficients_df = pd.DataFrame(lr_model.coef_, columns=[\"Opponent Form\",'Apr','Aug','Dec','Feb','Jan','Jul','Jun','Mar','May','Nov','Oct','Sep',\n",
    "          'Fri', 'Mon', 'Sat', 'Sun', 'Thu', 'Tue', 'Wed',\"Away\",\"Home\",\"Neutral\",\"N\",\"Y\",'Domestic Cup Final', 'Domestic Cup First round',\n",
    "          'Domestic Cup Fourth round','Domestic Cup Quarter-finals','Domestic Cup Round of 16','Domestic Cup Round of 64','Domestic Cup Semi-finals',\n",
    "          'Domestic League Regular season','European Club Competition Final','European Club Competition Group stage','European Club Competition Qualifying',\n",
    "          'European Club Competition Quarter-finals','European Club Competition Round of 16','European Club Competition Semi-finals',\n",
    "          'International Friendly', 'UEFA Euros Qualifying','UEFA Nations League Group stage','World Cup Qualifying'])\n",
    "coefficients_df=coefficients_df.transpose()\n",
    "coefficients_df.columns=[\"LR Model Coefficient\"]\n",
    "coefficients_df"
   ]
  },
  {
   "cell_type": "code",
   "execution_count": 54,
   "metadata": {},
   "outputs": [],
   "source": [
    "import math\n",
    "\n",
    "def probability(row):\n",
    "    return str(round(((math.exp(row[\"LR Model Coefficient\"]))-1)*100))+\"%\""
   ]
  },
  {
   "cell_type": "code",
   "execution_count": 55,
   "metadata": {},
   "outputs": [],
   "source": [
    "coefficients_df[\"Impact on Odds of Scoring\"]=coefficients_df.apply(probability,axis=1)"
   ]
  },
  {
   "cell_type": "code",
   "execution_count": 56,
   "metadata": {
    "scrolled": false
   },
   "outputs": [
    {
     "data": {
      "text/html": [
       "<div>\n",
       "<style scoped>\n",
       "    .dataframe tbody tr th:only-of-type {\n",
       "        vertical-align: middle;\n",
       "    }\n",
       "\n",
       "    .dataframe tbody tr th {\n",
       "        vertical-align: top;\n",
       "    }\n",
       "\n",
       "    .dataframe thead th {\n",
       "        text-align: right;\n",
       "    }\n",
       "</style>\n",
       "<table border=\"1\" class=\"dataframe\">\n",
       "  <thead>\n",
       "    <tr style=\"text-align: right;\">\n",
       "      <th></th>\n",
       "      <th>LR Model Coefficient</th>\n",
       "      <th>Impact on Odds of Scoring</th>\n",
       "    </tr>\n",
       "  </thead>\n",
       "  <tbody>\n",
       "    <tr>\n",
       "      <th>Opponent Form</th>\n",
       "      <td>-0.014461</td>\n",
       "      <td>-1%</td>\n",
       "    </tr>\n",
       "    <tr>\n",
       "      <th>Apr</th>\n",
       "      <td>-0.015270</td>\n",
       "      <td>-2%</td>\n",
       "    </tr>\n",
       "    <tr>\n",
       "      <th>Aug</th>\n",
       "      <td>0.036303</td>\n",
       "      <td>4%</td>\n",
       "    </tr>\n",
       "    <tr>\n",
       "      <th>Dec</th>\n",
       "      <td>0.006493</td>\n",
       "      <td>1%</td>\n",
       "    </tr>\n",
       "    <tr>\n",
       "      <th>Feb</th>\n",
       "      <td>0.000271</td>\n",
       "      <td>0%</td>\n",
       "    </tr>\n",
       "    <tr>\n",
       "      <th>Jan</th>\n",
       "      <td>-0.018129</td>\n",
       "      <td>-2%</td>\n",
       "    </tr>\n",
       "    <tr>\n",
       "      <th>Jul</th>\n",
       "      <td>-0.006239</td>\n",
       "      <td>-1%</td>\n",
       "    </tr>\n",
       "    <tr>\n",
       "      <th>Jun</th>\n",
       "      <td>-0.018222</td>\n",
       "      <td>-2%</td>\n",
       "    </tr>\n",
       "    <tr>\n",
       "      <th>Mar</th>\n",
       "      <td>-0.032791</td>\n",
       "      <td>-3%</td>\n",
       "    </tr>\n",
       "    <tr>\n",
       "      <th>May</th>\n",
       "      <td>-0.024492</td>\n",
       "      <td>-2%</td>\n",
       "    </tr>\n",
       "    <tr>\n",
       "      <th>Nov</th>\n",
       "      <td>0.016423</td>\n",
       "      <td>2%</td>\n",
       "    </tr>\n",
       "    <tr>\n",
       "      <th>Oct</th>\n",
       "      <td>0.031874</td>\n",
       "      <td>3%</td>\n",
       "    </tr>\n",
       "    <tr>\n",
       "      <th>Sep</th>\n",
       "      <td>0.023780</td>\n",
       "      <td>2%</td>\n",
       "    </tr>\n",
       "    <tr>\n",
       "      <th>Fri</th>\n",
       "      <td>-0.001751</td>\n",
       "      <td>0%</td>\n",
       "    </tr>\n",
       "    <tr>\n",
       "      <th>Mon</th>\n",
       "      <td>-0.006473</td>\n",
       "      <td>-1%</td>\n",
       "    </tr>\n",
       "    <tr>\n",
       "      <th>Sat</th>\n",
       "      <td>0.009888</td>\n",
       "      <td>1%</td>\n",
       "    </tr>\n",
       "    <tr>\n",
       "      <th>Sun</th>\n",
       "      <td>-0.010473</td>\n",
       "      <td>-1%</td>\n",
       "    </tr>\n",
       "    <tr>\n",
       "      <th>Thu</th>\n",
       "      <td>-0.017802</td>\n",
       "      <td>-2%</td>\n",
       "    </tr>\n",
       "    <tr>\n",
       "      <th>Tue</th>\n",
       "      <td>0.011644</td>\n",
       "      <td>1%</td>\n",
       "    </tr>\n",
       "    <tr>\n",
       "      <th>Wed</th>\n",
       "      <td>0.014966</td>\n",
       "      <td>2%</td>\n",
       "    </tr>\n",
       "    <tr>\n",
       "      <th>Away</th>\n",
       "      <td>-0.027451</td>\n",
       "      <td>-3%</td>\n",
       "    </tr>\n",
       "    <tr>\n",
       "      <th>Home</th>\n",
       "      <td>0.048763</td>\n",
       "      <td>5%</td>\n",
       "    </tr>\n",
       "    <tr>\n",
       "      <th>Neutral</th>\n",
       "      <td>-0.021312</td>\n",
       "      <td>-2%</td>\n",
       "    </tr>\n",
       "    <tr>\n",
       "      <th>N</th>\n",
       "      <td>-0.046670</td>\n",
       "      <td>-5%</td>\n",
       "    </tr>\n",
       "    <tr>\n",
       "      <th>Y</th>\n",
       "      <td>0.046670</td>\n",
       "      <td>5%</td>\n",
       "    </tr>\n",
       "    <tr>\n",
       "      <th>Domestic Cup Final</th>\n",
       "      <td>-0.011003</td>\n",
       "      <td>-1%</td>\n",
       "    </tr>\n",
       "    <tr>\n",
       "      <th>Domestic Cup First round</th>\n",
       "      <td>-0.005261</td>\n",
       "      <td>-1%</td>\n",
       "    </tr>\n",
       "    <tr>\n",
       "      <th>Domestic Cup Fourth round</th>\n",
       "      <td>-0.000758</td>\n",
       "      <td>0%</td>\n",
       "    </tr>\n",
       "    <tr>\n",
       "      <th>Domestic Cup Quarter-finals</th>\n",
       "      <td>-0.000345</td>\n",
       "      <td>0%</td>\n",
       "    </tr>\n",
       "    <tr>\n",
       "      <th>Domestic Cup Round of 16</th>\n",
       "      <td>0.014209</td>\n",
       "      <td>1%</td>\n",
       "    </tr>\n",
       "    <tr>\n",
       "      <th>Domestic Cup Round of 64</th>\n",
       "      <td>0.004643</td>\n",
       "      <td>0%</td>\n",
       "    </tr>\n",
       "    <tr>\n",
       "      <th>Domestic Cup Semi-finals</th>\n",
       "      <td>-0.005215</td>\n",
       "      <td>-1%</td>\n",
       "    </tr>\n",
       "    <tr>\n",
       "      <th>Domestic League Regular season</th>\n",
       "      <td>0.001584</td>\n",
       "      <td>0%</td>\n",
       "    </tr>\n",
       "    <tr>\n",
       "      <th>European Club Competition Final</th>\n",
       "      <td>-0.010712</td>\n",
       "      <td>-1%</td>\n",
       "    </tr>\n",
       "    <tr>\n",
       "      <th>European Club Competition Group stage</th>\n",
       "      <td>0.032578</td>\n",
       "      <td>3%</td>\n",
       "    </tr>\n",
       "    <tr>\n",
       "      <th>European Club Competition Qualifying</th>\n",
       "      <td>-0.005942</td>\n",
       "      <td>-1%</td>\n",
       "    </tr>\n",
       "    <tr>\n",
       "      <th>European Club Competition Quarter-finals</th>\n",
       "      <td>-0.000810</td>\n",
       "      <td>0%</td>\n",
       "    </tr>\n",
       "    <tr>\n",
       "      <th>European Club Competition Round of 16</th>\n",
       "      <td>-0.001036</td>\n",
       "      <td>0%</td>\n",
       "    </tr>\n",
       "    <tr>\n",
       "      <th>European Club Competition Semi-finals</th>\n",
       "      <td>-0.010527</td>\n",
       "      <td>-1%</td>\n",
       "    </tr>\n",
       "    <tr>\n",
       "      <th>International Friendly</th>\n",
       "      <td>0.004017</td>\n",
       "      <td>0%</td>\n",
       "    </tr>\n",
       "    <tr>\n",
       "      <th>UEFA Euros Qualifying</th>\n",
       "      <td>-0.011212</td>\n",
       "      <td>-1%</td>\n",
       "    </tr>\n",
       "    <tr>\n",
       "      <th>UEFA Nations League Group stage</th>\n",
       "      <td>0.007827</td>\n",
       "      <td>1%</td>\n",
       "    </tr>\n",
       "    <tr>\n",
       "      <th>World Cup Qualifying</th>\n",
       "      <td>-0.002037</td>\n",
       "      <td>0%</td>\n",
       "    </tr>\n",
       "  </tbody>\n",
       "</table>\n",
       "</div>"
      ],
      "text/plain": [
       "                                          LR Model Coefficient  \\\n",
       "Opponent Form                                        -0.014461   \n",
       "Apr                                                  -0.015270   \n",
       "Aug                                                   0.036303   \n",
       "Dec                                                   0.006493   \n",
       "Feb                                                   0.000271   \n",
       "Jan                                                  -0.018129   \n",
       "Jul                                                  -0.006239   \n",
       "Jun                                                  -0.018222   \n",
       "Mar                                                  -0.032791   \n",
       "May                                                  -0.024492   \n",
       "Nov                                                   0.016423   \n",
       "Oct                                                   0.031874   \n",
       "Sep                                                   0.023780   \n",
       "Fri                                                  -0.001751   \n",
       "Mon                                                  -0.006473   \n",
       "Sat                                                   0.009888   \n",
       "Sun                                                  -0.010473   \n",
       "Thu                                                  -0.017802   \n",
       "Tue                                                   0.011644   \n",
       "Wed                                                   0.014966   \n",
       "Away                                                 -0.027451   \n",
       "Home                                                  0.048763   \n",
       "Neutral                                              -0.021312   \n",
       "N                                                    -0.046670   \n",
       "Y                                                     0.046670   \n",
       "Domestic Cup Final                                   -0.011003   \n",
       "Domestic Cup First round                             -0.005261   \n",
       "Domestic Cup Fourth round                            -0.000758   \n",
       "Domestic Cup Quarter-finals                          -0.000345   \n",
       "Domestic Cup Round of 16                              0.014209   \n",
       "Domestic Cup Round of 64                              0.004643   \n",
       "Domestic Cup Semi-finals                             -0.005215   \n",
       "Domestic League Regular season                        0.001584   \n",
       "European Club Competition Final                      -0.010712   \n",
       "European Club Competition Group stage                 0.032578   \n",
       "European Club Competition Qualifying                 -0.005942   \n",
       "European Club Competition Quarter-finals             -0.000810   \n",
       "European Club Competition Round of 16                -0.001036   \n",
       "European Club Competition Semi-finals                -0.010527   \n",
       "International Friendly                                0.004017   \n",
       "UEFA Euros Qualifying                                -0.011212   \n",
       "UEFA Nations League Group stage                       0.007827   \n",
       "World Cup Qualifying                                 -0.002037   \n",
       "\n",
       "                                         Impact on Odds of Scoring  \n",
       "Opponent Form                                                  -1%  \n",
       "Apr                                                            -2%  \n",
       "Aug                                                             4%  \n",
       "Dec                                                             1%  \n",
       "Feb                                                             0%  \n",
       "Jan                                                            -2%  \n",
       "Jul                                                            -1%  \n",
       "Jun                                                            -2%  \n",
       "Mar                                                            -3%  \n",
       "May                                                            -2%  \n",
       "Nov                                                             2%  \n",
       "Oct                                                             3%  \n",
       "Sep                                                             2%  \n",
       "Fri                                                             0%  \n",
       "Mon                                                            -1%  \n",
       "Sat                                                             1%  \n",
       "Sun                                                            -1%  \n",
       "Thu                                                            -2%  \n",
       "Tue                                                             1%  \n",
       "Wed                                                             2%  \n",
       "Away                                                           -3%  \n",
       "Home                                                            5%  \n",
       "Neutral                                                        -2%  \n",
       "N                                                              -5%  \n",
       "Y                                                               5%  \n",
       "Domestic Cup Final                                             -1%  \n",
       "Domestic Cup First round                                       -1%  \n",
       "Domestic Cup Fourth round                                       0%  \n",
       "Domestic Cup Quarter-finals                                     0%  \n",
       "Domestic Cup Round of 16                                        1%  \n",
       "Domestic Cup Round of 64                                        0%  \n",
       "Domestic Cup Semi-finals                                       -1%  \n",
       "Domestic League Regular season                                  0%  \n",
       "European Club Competition Final                                -1%  \n",
       "European Club Competition Group stage                           3%  \n",
       "European Club Competition Qualifying                           -1%  \n",
       "European Club Competition Quarter-finals                        0%  \n",
       "European Club Competition Round of 16                           0%  \n",
       "European Club Competition Semi-finals                          -1%  \n",
       "International Friendly                                          0%  \n",
       "UEFA Euros Qualifying                                          -1%  \n",
       "UEFA Nations League Group stage                                 1%  \n",
       "World Cup Qualifying                                            0%  "
      ]
     },
     "execution_count": 56,
     "metadata": {},
     "output_type": "execute_result"
    }
   ],
   "source": [
    "coefficients_df"
   ]
  },
  {
   "cell_type": "code",
   "execution_count": 57,
   "metadata": {},
   "outputs": [
    {
     "name": "stdout",
     "output_type": "stream",
     "text": [
      "[1]\n"
     ]
    }
   ],
   "source": [
    "print(lr_model.predict(finaltest))"
   ]
  },
  {
   "cell_type": "code",
   "execution_count": 58,
   "metadata": {},
   "outputs": [
    {
     "data": {
      "text/plain": [
       "Text(0.5, 1.0, 'Feature Importance Ranking')"
      ]
     },
     "execution_count": 58,
     "metadata": {},
     "output_type": "execute_result"
    },
    {
     "data": {
      "image/png": "[encoded data removed]",
      "text/plain": [
       "<Figure size 432x288 with 1 Axes>"
      ]
     },
     "metadata": {
      "needs_background": "light"
     },
     "output_type": "display_data"
    }
   ],
   "source": [
    "#Identify most important predictors\n",
    "prednames=predictors.columns.tolist()\n",
    "coefs=lr_model.coef_.tolist()[0]\n",
    "\n",
    "important_feature_dict=dict(zip(prednames,coefs))\n",
    "important_feature_dict=dict(sorted(important_feature_dict.items(), key=lambda item:item[1], reverse=True))\n",
    "\n",
    "features=list(important_feature_dict.keys())\n",
    "values=list(important_feature_dict.values())\n",
    "\n",
    "plt.barh(features,values)\n",
    "plt.title(\"Feature Importance Ranking\")"
   ]
  },
  {
   "cell_type": "markdown",
   "metadata": {},
   "source": [
    "## Part 6: Additional Data Analysis"
   ]
  },
  {
   "cell_type": "markdown",
   "metadata": {},
   "source": [
    "### Messi Goals First 5 Years"
   ]
  },
  {
   "cell_type": "code",
   "execution_count": 62,
   "metadata": {},
   "outputs": [],
   "source": [
    "messi_df=pd.read_excel(\"C:/Users/rprat/OneDrive/Documents/Messi Career Stats.xlsx\")"
   ]
  },
  {
   "cell_type": "code",
   "execution_count": 63,
   "metadata": {},
   "outputs": [],
   "source": [
    "messi_df[\"Score?\"]=np.where(messi_df[\"Gls\"]>0, \"Scored\", \"Didn't Score\")"
   ]
  },
  {
   "cell_type": "code",
   "execution_count": 64,
   "metadata": {},
   "outputs": [
    {
     "name": "stdout",
     "output_type": "stream",
     "text": [
      "Messi scored in 39% of the games he played in in the first 5 years of his career.\n"
     ]
    }
   ],
   "source": [
    "games_goal=len(messi_df[(messi_df[\"Score?\"]==\"Scored\")])\n",
    "games_nogoal=len(messi_df[(messi_df[\"Score?\"]==\"Didn't Score\")])\n",
    "\n",
    "print(f\"Messi scored in {round((games_goal/(games_nogoal+games_goal))*100)}% of the games he played in in the first 5 years of his career.\")"
   ]
  },
  {
   "cell_type": "markdown",
   "metadata": {},
   "source": [
    "### Ronaldo Goals First 5 Years"
   ]
  },
  {
   "cell_type": "code",
   "execution_count": 65,
   "metadata": {},
   "outputs": [],
   "source": [
    "ronaldo_df=pd.read_excel(\"C:/Users/rprat/OneDrive/Documents/Ronaldo Career Stats.xlsx\")"
   ]
  },
  {
   "cell_type": "code",
   "execution_count": 66,
   "metadata": {},
   "outputs": [],
   "source": [
    "ronaldo_df[\"Score?\"]=np.where(ronaldo_df[\"Gls\"]>0, \"Scored\", \"Didn't Score\")"
   ]
  },
  {
   "cell_type": "code",
   "execution_count": 67,
   "metadata": {},
   "outputs": [
    {
     "name": "stdout",
     "output_type": "stream",
     "text": [
      "Ronaldo scored in 20% of the games he played in in the first 5 years of his career.\n"
     ]
    }
   ],
   "source": [
    "games_goal=len(ronaldo_df[(ronaldo_df[\"Score?\"]==\"Scored\")])\n",
    "games_nogoal=len(ronaldo_df[(ronaldo_df[\"Score?\"]==\"Didn't Score\")])\n",
    "\n",
    "print(f\"Ronaldo scored in {round((games_goal/(games_nogoal+games_goal))*100)}% of the games he played in in the first 5 years of his career.\")"
   ]
  }
 ],
 "metadata": {
  "kernelspec": {
   "display_name": "Python 3",
   "language": "python",
   "name": "python3"
  },
  "language_info": {
   "codemirror_mode": {
    "name": "ipython",
    "version": 3
   },
   "file_extension": ".py",
   "mimetype": "text/x-python",
   "name": "python",
   "nbconvert_exporter": "python",
   "pygments_lexer": "ipython3",
   "version": "3.8.5"
  }
 },
 "nbformat": 4,
 "nbformat_minor": 4
}
